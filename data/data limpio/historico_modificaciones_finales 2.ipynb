{
 "cells": [
  {
   "cell_type": "code",
   "execution_count": 2,
   "metadata": {},
   "outputs": [],
   "source": [
    "import pandas as pd\n",
    "\n",
    "data15 = pd.read_csv('./data limpio/data15.csv')\n",
    "data16 = pd.read_csv('./data limpio/data16.csv')\n",
    "data17 = pd.read_csv('./data limpio/data_17.csv')\n",
    "data18 = pd.read_csv('./data limpio/data18.csv')\n",
    "data19 = pd.read_csv('./data limpio/data19.csv')\n",
    "data20 = pd.read_csv('./data limpio/data20.csv')\n",
    "data21 = pd.read_csv('./data limpio/data21.csv')\n",
    "data22 = pd.read_csv('./data limpio/data22.csv')"
   ]
  },
  {
   "cell_type": "code",
   "execution_count": 3,
   "metadata": {},
   "outputs": [
    {
     "data": {
      "text/plain": [
       "Index(['Country', 'Happiness Rank', 'Happiness Score',\n",
       "       'Economy (GDP per Capita)', 'Family', 'Health (Life Expectancy)',\n",
       "       'Freedom', 'Trust (Government Corruption)', 'Generosity'],\n",
       "      dtype='object')"
      ]
     },
     "execution_count": 3,
     "metadata": {},
     "output_type": "execute_result"
    }
   ],
   "source": [
    "data15.columns\n"
   ]
  },
  {
   "cell_type": "code",
   "execution_count": 6,
   "metadata": {},
   "outputs": [],
   "source": [
    "df = pd.read_csv('./data limpio/data23.csv')"
   ]
  },
  {
   "cell_type": "code",
   "execution_count": 7,
   "metadata": {},
   "outputs": [
    {
     "ename": "ValueError",
     "evalue": "Length mismatch: Expected axis has 8 elements, new values have 9 elements",
     "output_type": "error",
     "traceback": [
      "\u001b[0;31m---------------------------------------------------------------------------\u001b[0m",
      "\u001b[0;31mValueError\u001b[0m                                Traceback (most recent call last)",
      "Cell \u001b[0;32mIn[7], line 14\u001b[0m\n\u001b[1;32m     12\u001b[0m \u001b[39m# Iterar sobre los DataFrames y renombrar las columnas\u001b[39;00m\n\u001b[1;32m     13\u001b[0m \u001b[39mfor\u001b[39;00m i, dataframe \u001b[39min\u001b[39;00m \u001b[39menumerate\u001b[39m(dataframes):\n\u001b[0;32m---> 14\u001b[0m     dataframe\u001b[39m.\u001b[39mcolumns \u001b[39m=\u001b[39m nombres_columnas\n\u001b[1;32m     16\u001b[0m     \u001b[39m# Opcional: Guardar los DataFrames actualizados en nuevos archivos CSV\u001b[39;00m\n\u001b[1;32m     17\u001b[0m     dataframe\u001b[39m.\u001b[39mto_csv(\u001b[39mf\u001b[39m\u001b[39m'\u001b[39m\u001b[39mnuevo_dataframe_\u001b[39m\u001b[39m{\u001b[39;00mi\u001b[39m}\u001b[39;00m\u001b[39m.csv\u001b[39m\u001b[39m'\u001b[39m, index\u001b[39m=\u001b[39m\u001b[39mFalse\u001b[39;00m)\n",
      "File \u001b[0;32m~/opt/anaconda3/envs/ironhack/lib/python3.9/site-packages/pandas/core/generic.py:6002\u001b[0m, in \u001b[0;36mNDFrame.__setattr__\u001b[0;34m(self, name, value)\u001b[0m\n\u001b[1;32m   6000\u001b[0m \u001b[39mtry\u001b[39;00m:\n\u001b[1;32m   6001\u001b[0m     \u001b[39mobject\u001b[39m\u001b[39m.\u001b[39m\u001b[39m__getattribute__\u001b[39m(\u001b[39mself\u001b[39m, name)\n\u001b[0;32m-> 6002\u001b[0m     \u001b[39mreturn\u001b[39;00m \u001b[39mobject\u001b[39;49m\u001b[39m.\u001b[39;49m\u001b[39m__setattr__\u001b[39;49m(\u001b[39mself\u001b[39;49m, name, value)\n\u001b[1;32m   6003\u001b[0m \u001b[39mexcept\u001b[39;00m \u001b[39mAttributeError\u001b[39;00m:\n\u001b[1;32m   6004\u001b[0m     \u001b[39mpass\u001b[39;00m\n",
      "File \u001b[0;32m~/opt/anaconda3/envs/ironhack/lib/python3.9/site-packages/pandas/_libs/properties.pyx:69\u001b[0m, in \u001b[0;36mpandas._libs.properties.AxisProperty.__set__\u001b[0;34m()\u001b[0m\n",
      "File \u001b[0;32m~/opt/anaconda3/envs/ironhack/lib/python3.9/site-packages/pandas/core/generic.py:730\u001b[0m, in \u001b[0;36mNDFrame._set_axis\u001b[0;34m(self, axis, labels)\u001b[0m\n\u001b[1;32m    725\u001b[0m \u001b[39m\"\"\"\u001b[39;00m\n\u001b[1;32m    726\u001b[0m \u001b[39mThis is called from the cython code when we set the `index` attribute\u001b[39;00m\n\u001b[1;32m    727\u001b[0m \u001b[39mdirectly, e.g. `series.index = [1, 2, 3]`.\u001b[39;00m\n\u001b[1;32m    728\u001b[0m \u001b[39m\"\"\"\u001b[39;00m\n\u001b[1;32m    729\u001b[0m labels \u001b[39m=\u001b[39m ensure_index(labels)\n\u001b[0;32m--> 730\u001b[0m \u001b[39mself\u001b[39;49m\u001b[39m.\u001b[39;49m_mgr\u001b[39m.\u001b[39;49mset_axis(axis, labels)\n\u001b[1;32m    731\u001b[0m \u001b[39mself\u001b[39m\u001b[39m.\u001b[39m_clear_item_cache()\n",
      "File \u001b[0;32m~/opt/anaconda3/envs/ironhack/lib/python3.9/site-packages/pandas/core/internals/managers.py:225\u001b[0m, in \u001b[0;36mBaseBlockManager.set_axis\u001b[0;34m(self, axis, new_labels)\u001b[0m\n\u001b[1;32m    223\u001b[0m \u001b[39mdef\u001b[39;00m \u001b[39mset_axis\u001b[39m(\u001b[39mself\u001b[39m, axis: AxisInt, new_labels: Index) \u001b[39m-\u001b[39m\u001b[39m>\u001b[39m \u001b[39mNone\u001b[39;00m:\n\u001b[1;32m    224\u001b[0m     \u001b[39m# Caller is responsible for ensuring we have an Index object.\u001b[39;00m\n\u001b[0;32m--> 225\u001b[0m     \u001b[39mself\u001b[39;49m\u001b[39m.\u001b[39;49m_validate_set_axis(axis, new_labels)\n\u001b[1;32m    226\u001b[0m     \u001b[39mself\u001b[39m\u001b[39m.\u001b[39maxes[axis] \u001b[39m=\u001b[39m new_labels\n",
      "File \u001b[0;32m~/opt/anaconda3/envs/ironhack/lib/python3.9/site-packages/pandas/core/internals/base.py:70\u001b[0m, in \u001b[0;36mDataManager._validate_set_axis\u001b[0;34m(self, axis, new_labels)\u001b[0m\n\u001b[1;32m     67\u001b[0m     \u001b[39mpass\u001b[39;00m\n\u001b[1;32m     69\u001b[0m \u001b[39melif\u001b[39;00m new_len \u001b[39m!=\u001b[39m old_len:\n\u001b[0;32m---> 70\u001b[0m     \u001b[39mraise\u001b[39;00m \u001b[39mValueError\u001b[39;00m(\n\u001b[1;32m     71\u001b[0m         \u001b[39mf\u001b[39m\u001b[39m\"\u001b[39m\u001b[39mLength mismatch: Expected axis has \u001b[39m\u001b[39m{\u001b[39;00mold_len\u001b[39m}\u001b[39;00m\u001b[39m elements, new \u001b[39m\u001b[39m\"\u001b[39m\n\u001b[1;32m     72\u001b[0m         \u001b[39mf\u001b[39m\u001b[39m\"\u001b[39m\u001b[39mvalues have \u001b[39m\u001b[39m{\u001b[39;00mnew_len\u001b[39m}\u001b[39;00m\u001b[39m elements\u001b[39m\u001b[39m\"\u001b[39m\n\u001b[1;32m     73\u001b[0m     )\n",
      "\u001b[0;31mValueError\u001b[0m: Length mismatch: Expected axis has 8 elements, new values have 9 elements"
     ]
    }
   ],
   "source": [
    "import pandas as pd\n",
    "\n",
    "\n",
    "# Define los nombres de columnas deseados en orden\n",
    "nombres_columnas = ['Country', 'Rank', 'Ladder_score', 'Logged_gdp_per_capita', 'Social_support',\n",
    "                    'Healthy_life_expectancy', 'Freedom_to_make_life_choices', 'Generosity',\n",
    "                    'Perceptions_of_corruption']\n",
    "\n",
    "# Lista de DataFrames\n",
    "dataframes = [data15, data16, data17, data18, data19, data20, data21, data22, df]\n",
    "\n",
    "# Iterar sobre los DataFrames y renombrar las columnas\n",
    "for i, dataframe in enumerate(dataframes):\n",
    "    dataframe.columns = nombres_columnas\n",
    "\n",
    "    # Opcional: Guardar los DataFrames actualizados en nuevos archivos CSV\n",
    "    dataframe.to_csv(f'nuevo_dataframe_{i}.csv', index=False)\n",
    "\n",
    "\n"
   ]
  },
  {
   "cell_type": "code",
   "execution_count": 8,
   "metadata": {},
   "outputs": [
    {
     "name": "stdout",
     "output_type": "stream",
     "text": [
      "<class 'pandas.core.frame.DataFrame'>\n",
      "RangeIndex: 137 entries, 0 to 136\n",
      "Data columns (total 8 columns):\n",
      " #   Column                        Non-Null Count  Dtype  \n",
      "---  ------                        --------------  -----  \n",
      " 0   Country name                  137 non-null    object \n",
      " 1   Ladder score                  137 non-null    float64\n",
      " 2   Logged GDP per capita         137 non-null    float64\n",
      " 3   Social support                137 non-null    float64\n",
      " 4   Healthy life expectancy       137 non-null    float64\n",
      " 5   Freedom to make life choices  137 non-null    float64\n",
      " 6   Perceptions of corruption     137 non-null    float64\n",
      " 7   Generosity                    137 non-null    float64\n",
      "dtypes: float64(7), object(1)\n",
      "memory usage: 8.7+ KB\n"
     ]
    }
   ],
   "source": [
    "df.info()"
   ]
  },
  {
   "cell_type": "code",
   "execution_count": 9,
   "metadata": {},
   "outputs": [
    {
     "name": "stdout",
     "output_type": "stream",
     "text": [
      "<class 'pandas.core.frame.DataFrame'>\n",
      "RangeIndex: 158 entries, 0 to 157\n",
      "Data columns (total 9 columns):\n",
      " #   Column                        Non-Null Count  Dtype  \n",
      "---  ------                        --------------  -----  \n",
      " 0   Country                       158 non-null    object \n",
      " 1   Rank                          158 non-null    int64  \n",
      " 2   Ladder_score                  158 non-null    float64\n",
      " 3   Logged_gdp_per_capita         158 non-null    float64\n",
      " 4   Social_support                158 non-null    float64\n",
      " 5   Healthy_life_expectancy       158 non-null    float64\n",
      " 6   Freedom_to_make_life_choices  158 non-null    float64\n",
      " 7   Generosity                    158 non-null    float64\n",
      " 8   Perceptions_of_corruption     158 non-null    float64\n",
      "dtypes: float64(7), int64(1), object(1)\n",
      "memory usage: 11.2+ KB\n"
     ]
    }
   ],
   "source": [
    "data15.info()"
   ]
  },
  {
   "cell_type": "code",
   "execution_count": 10,
   "metadata": {},
   "outputs": [
    {
     "name": "stdout",
     "output_type": "stream",
     "text": [
      "<class 'pandas.core.frame.DataFrame'>\n",
      "RangeIndex: 157 entries, 0 to 156\n",
      "Data columns (total 9 columns):\n",
      " #   Column                        Non-Null Count  Dtype  \n",
      "---  ------                        --------------  -----  \n",
      " 0   Country                       157 non-null    object \n",
      " 1   Rank                          157 non-null    int64  \n",
      " 2   Ladder_score                  157 non-null    float64\n",
      " 3   Logged_gdp_per_capita         157 non-null    float64\n",
      " 4   Social_support                157 non-null    float64\n",
      " 5   Healthy_life_expectancy       157 non-null    float64\n",
      " 6   Freedom_to_make_life_choices  157 non-null    float64\n",
      " 7   Generosity                    157 non-null    float64\n",
      " 8   Perceptions_of_corruption     157 non-null    float64\n",
      "dtypes: float64(7), int64(1), object(1)\n",
      "memory usage: 11.2+ KB\n"
     ]
    }
   ],
   "source": [
    "data16.info()"
   ]
  },
  {
   "cell_type": "code",
   "execution_count": 11,
   "metadata": {},
   "outputs": [
    {
     "name": "stdout",
     "output_type": "stream",
     "text": [
      "<class 'pandas.core.frame.DataFrame'>\n",
      "RangeIndex: 155 entries, 0 to 154\n",
      "Data columns (total 9 columns):\n",
      " #   Column                        Non-Null Count  Dtype  \n",
      "---  ------                        --------------  -----  \n",
      " 0   Country                       155 non-null    object \n",
      " 1   Rank                          155 non-null    int64  \n",
      " 2   Ladder_score                  155 non-null    float64\n",
      " 3   Logged_gdp_per_capita         155 non-null    float64\n",
      " 4   Social_support                155 non-null    float64\n",
      " 5   Healthy_life_expectancy       155 non-null    float64\n",
      " 6   Freedom_to_make_life_choices  155 non-null    float64\n",
      " 7   Generosity                    155 non-null    float64\n",
      " 8   Perceptions_of_corruption     155 non-null    float64\n",
      "dtypes: float64(7), int64(1), object(1)\n",
      "memory usage: 11.0+ KB\n"
     ]
    }
   ],
   "source": [
    "data17.info()"
   ]
  },
  {
   "cell_type": "code",
   "execution_count": 12,
   "metadata": {},
   "outputs": [
    {
     "name": "stdout",
     "output_type": "stream",
     "text": [
      "<class 'pandas.core.frame.DataFrame'>\n",
      "RangeIndex: 156 entries, 0 to 155\n",
      "Data columns (total 9 columns):\n",
      " #   Column                        Non-Null Count  Dtype  \n",
      "---  ------                        --------------  -----  \n",
      " 0   Country                       156 non-null    object \n",
      " 1   Rank                          156 non-null    int64  \n",
      " 2   Ladder_score                  156 non-null    float64\n",
      " 3   Logged_gdp_per_capita         156 non-null    float64\n",
      " 4   Social_support                156 non-null    float64\n",
      " 5   Healthy_life_expectancy       156 non-null    float64\n",
      " 6   Freedom_to_make_life_choices  156 non-null    float64\n",
      " 7   Generosity                    155 non-null    float64\n",
      " 8   Perceptions_of_corruption     156 non-null    float64\n",
      "dtypes: float64(7), int64(1), object(1)\n",
      "memory usage: 11.1+ KB\n"
     ]
    }
   ],
   "source": [
    "data18.info()"
   ]
  },
  {
   "cell_type": "code",
   "execution_count": 13,
   "metadata": {},
   "outputs": [
    {
     "name": "stdout",
     "output_type": "stream",
     "text": [
      "<class 'pandas.core.frame.DataFrame'>\n",
      "RangeIndex: 156 entries, 0 to 155\n",
      "Data columns (total 9 columns):\n",
      " #   Column                        Non-Null Count  Dtype  \n",
      "---  ------                        --------------  -----  \n",
      " 0   Country                       156 non-null    object \n",
      " 1   Rank                          156 non-null    int64  \n",
      " 2   Ladder_score                  156 non-null    float64\n",
      " 3   Logged_gdp_per_capita         156 non-null    float64\n",
      " 4   Social_support                156 non-null    float64\n",
      " 5   Healthy_life_expectancy       156 non-null    float64\n",
      " 6   Freedom_to_make_life_choices  156 non-null    float64\n",
      " 7   Generosity                    156 non-null    float64\n",
      " 8   Perceptions_of_corruption     156 non-null    float64\n",
      "dtypes: float64(7), int64(1), object(1)\n",
      "memory usage: 11.1+ KB\n"
     ]
    }
   ],
   "source": [
    "data19.info()"
   ]
  },
  {
   "cell_type": "code",
   "execution_count": 14,
   "metadata": {},
   "outputs": [
    {
     "name": "stdout",
     "output_type": "stream",
     "text": [
      "<class 'pandas.core.frame.DataFrame'>\n",
      "RangeIndex: 153 entries, 0 to 152\n",
      "Data columns (total 9 columns):\n",
      " #   Column                        Non-Null Count  Dtype  \n",
      "---  ------                        --------------  -----  \n",
      " 0   Country                       153 non-null    object \n",
      " 1   Rank                          153 non-null    int64  \n",
      " 2   Ladder_score                  153 non-null    float64\n",
      " 3   Logged_gdp_per_capita         153 non-null    float64\n",
      " 4   Social_support                153 non-null    float64\n",
      " 5   Healthy_life_expectancy       153 non-null    float64\n",
      " 6   Freedom_to_make_life_choices  153 non-null    float64\n",
      " 7   Generosity                    153 non-null    float64\n",
      " 8   Perceptions_of_corruption     153 non-null    float64\n",
      "dtypes: float64(7), int64(1), object(1)\n",
      "memory usage: 10.9+ KB\n"
     ]
    }
   ],
   "source": [
    "data20.info()"
   ]
  },
  {
   "cell_type": "code",
   "execution_count": 15,
   "metadata": {},
   "outputs": [
    {
     "name": "stdout",
     "output_type": "stream",
     "text": [
      "<class 'pandas.core.frame.DataFrame'>\n",
      "RangeIndex: 149 entries, 0 to 148\n",
      "Data columns (total 9 columns):\n",
      " #   Column                        Non-Null Count  Dtype  \n",
      "---  ------                        --------------  -----  \n",
      " 0   Country                       149 non-null    object \n",
      " 1   Rank                          149 non-null    int64  \n",
      " 2   Ladder_score                  149 non-null    float64\n",
      " 3   Logged_gdp_per_capita         149 non-null    float64\n",
      " 4   Social_support                149 non-null    float64\n",
      " 5   Healthy_life_expectancy       149 non-null    float64\n",
      " 6   Freedom_to_make_life_choices  149 non-null    float64\n",
      " 7   Generosity                    149 non-null    float64\n",
      " 8   Perceptions_of_corruption     149 non-null    float64\n",
      "dtypes: float64(7), int64(1), object(1)\n",
      "memory usage: 10.6+ KB\n"
     ]
    }
   ],
   "source": [
    "data21.info()"
   ]
  },
  {
   "cell_type": "code",
   "execution_count": 16,
   "metadata": {},
   "outputs": [
    {
     "name": "stdout",
     "output_type": "stream",
     "text": [
      "<class 'pandas.core.frame.DataFrame'>\n",
      "RangeIndex: 146 entries, 0 to 145\n",
      "Data columns (total 9 columns):\n",
      " #   Column                        Non-Null Count  Dtype  \n",
      "---  ------                        --------------  -----  \n",
      " 0   Country                       146 non-null    object \n",
      " 1   Rank                          146 non-null    int64  \n",
      " 2   Ladder_score                  146 non-null    float64\n",
      " 3   Logged_gdp_per_capita         146 non-null    float64\n",
      " 4   Social_support                146 non-null    float64\n",
      " 5   Healthy_life_expectancy       146 non-null    float64\n",
      " 6   Freedom_to_make_life_choices  146 non-null    float64\n",
      " 7   Generosity                    146 non-null    float64\n",
      " 8   Perceptions_of_corruption     146 non-null    float64\n",
      "dtypes: float64(7), int64(1), object(1)\n",
      "memory usage: 10.4+ KB\n"
     ]
    }
   ],
   "source": [
    "data22.info()"
   ]
  },
  {
   "cell_type": "code",
   "execution_count": 17,
   "metadata": {},
   "outputs": [
    {
     "name": "stdout",
     "output_type": "stream",
     "text": [
      "<class 'pandas.core.frame.DataFrame'>\n",
      "RangeIndex: 137 entries, 0 to 136\n",
      "Data columns (total 8 columns):\n",
      " #   Column                        Non-Null Count  Dtype  \n",
      "---  ------                        --------------  -----  \n",
      " 0   Country name                  137 non-null    object \n",
      " 1   Ladder score                  137 non-null    float64\n",
      " 2   Logged GDP per capita         137 non-null    float64\n",
      " 3   Social support                137 non-null    float64\n",
      " 4   Healthy life expectancy       137 non-null    float64\n",
      " 5   Freedom to make life choices  137 non-null    float64\n",
      " 6   Perceptions of corruption     137 non-null    float64\n",
      " 7   Generosity                    137 non-null    float64\n",
      "dtypes: float64(7), object(1)\n",
      "memory usage: 8.7+ KB\n"
     ]
    }
   ],
   "source": [
    "df.info()"
   ]
  },
  {
   "cell_type": "code",
   "execution_count": 18,
   "metadata": {},
   "outputs": [],
   "source": [
    "data15.to_csv(\"data15_final.csv\", index=False)\n",
    "\n",
    "data16.to_csv(\"data16_final.csv\", index=False)\n",
    "\n",
    "# Repite el mismo patrón para los demás DataFrames\n",
    "data17.to_csv(\"data17_final.csv\", index=False)\n",
    "\n",
    "data18.to_csv(\"data18_final.csv\", index=False)\n",
    "data19.to_csv(\"data19_final.csv\", index=False)\n",
    "data20.to_csv(\"data20_final.csv\", index=False)\n",
    "data21.to_csv(\"data21_final.csv\", index=False)\n",
    "data22.to_csv(\"data22_final.csv\", index=False)"
   ]
  },
  {
   "cell_type": "code",
   "execution_count": 19,
   "metadata": {},
   "outputs": [
    {
     "data": {
      "text/html": [
       "<div>\n",
       "<style scoped>\n",
       "    .dataframe tbody tr th:only-of-type {\n",
       "        vertical-align: middle;\n",
       "    }\n",
       "\n",
       "    .dataframe tbody tr th {\n",
       "        vertical-align: top;\n",
       "    }\n",
       "\n",
       "    .dataframe thead th {\n",
       "        text-align: right;\n",
       "    }\n",
       "</style>\n",
       "<table border=\"1\" class=\"dataframe\">\n",
       "  <thead>\n",
       "    <tr style=\"text-align: right;\">\n",
       "      <th></th>\n",
       "      <th>Country</th>\n",
       "      <th>Rank</th>\n",
       "      <th>Ladder_score</th>\n",
       "      <th>Logged_gdp_per_capita</th>\n",
       "      <th>Social_support</th>\n",
       "      <th>Healthy_life_expectancy</th>\n",
       "      <th>Freedom_to_make_life_choices</th>\n",
       "      <th>Generosity</th>\n",
       "      <th>Perceptions_of_corruption</th>\n",
       "    </tr>\n",
       "  </thead>\n",
       "  <tbody>\n",
       "    <tr>\n",
       "      <th>0</th>\n",
       "      <td>Finland</td>\n",
       "      <td>1</td>\n",
       "      <td>7.8087</td>\n",
       "      <td>10.639267</td>\n",
       "      <td>0.954330</td>\n",
       "      <td>71.900825</td>\n",
       "      <td>0.949172</td>\n",
       "      <td>-0.059482</td>\n",
       "      <td>0.195445</td>\n",
       "    </tr>\n",
       "    <tr>\n",
       "      <th>1</th>\n",
       "      <td>Denmark</td>\n",
       "      <td>2</td>\n",
       "      <td>7.6456</td>\n",
       "      <td>10.774001</td>\n",
       "      <td>0.955991</td>\n",
       "      <td>72.402504</td>\n",
       "      <td>0.951444</td>\n",
       "      <td>0.066202</td>\n",
       "      <td>0.168489</td>\n",
       "    </tr>\n",
       "    <tr>\n",
       "      <th>2</th>\n",
       "      <td>Switzerland</td>\n",
       "      <td>3</td>\n",
       "      <td>7.5599</td>\n",
       "      <td>10.979933</td>\n",
       "      <td>0.942847</td>\n",
       "      <td>74.102448</td>\n",
       "      <td>0.921337</td>\n",
       "      <td>0.105911</td>\n",
       "      <td>0.303728</td>\n",
       "    </tr>\n",
       "    <tr>\n",
       "      <th>3</th>\n",
       "      <td>Iceland</td>\n",
       "      <td>4</td>\n",
       "      <td>7.5045</td>\n",
       "      <td>10.772559</td>\n",
       "      <td>0.974670</td>\n",
       "      <td>73.000000</td>\n",
       "      <td>0.948892</td>\n",
       "      <td>0.246944</td>\n",
       "      <td>0.711710</td>\n",
       "    </tr>\n",
       "    <tr>\n",
       "      <th>4</th>\n",
       "      <td>Norway</td>\n",
       "      <td>5</td>\n",
       "      <td>7.4880</td>\n",
       "      <td>11.087804</td>\n",
       "      <td>0.952487</td>\n",
       "      <td>73.200783</td>\n",
       "      <td>0.955750</td>\n",
       "      <td>0.134533</td>\n",
       "      <td>0.263218</td>\n",
       "    </tr>\n",
       "  </tbody>\n",
       "</table>\n",
       "</div>"
      ],
      "text/plain": [
       "       Country  Rank  Ladder_score  Logged_gdp_per_capita  Social_support   \n",
       "0      Finland     1        7.8087              10.639267        0.954330  \\\n",
       "1      Denmark     2        7.6456              10.774001        0.955991   \n",
       "2  Switzerland     3        7.5599              10.979933        0.942847   \n",
       "3      Iceland     4        7.5045              10.772559        0.974670   \n",
       "4       Norway     5        7.4880              11.087804        0.952487   \n",
       "\n",
       "   Healthy_life_expectancy  Freedom_to_make_life_choices  Generosity   \n",
       "0                71.900825                      0.949172   -0.059482  \\\n",
       "1                72.402504                      0.951444    0.066202   \n",
       "2                74.102448                      0.921337    0.105911   \n",
       "3                73.000000                      0.948892    0.246944   \n",
       "4                73.200783                      0.955750    0.134533   \n",
       "\n",
       "   Perceptions_of_corruption  \n",
       "0                   0.195445  \n",
       "1                   0.168489  \n",
       "2                   0.303728  \n",
       "3                   0.711710  \n",
       "4                   0.263218  "
      ]
     },
     "execution_count": 19,
     "metadata": {},
     "output_type": "execute_result"
    }
   ],
   "source": [
    "data20.head()"
   ]
  },
  {
   "cell_type": "code",
   "execution_count": 20,
   "metadata": {},
   "outputs": [
    {
     "data": {
      "text/html": [
       "<div>\n",
       "<style scoped>\n",
       "    .dataframe tbody tr th:only-of-type {\n",
       "        vertical-align: middle;\n",
       "    }\n",
       "\n",
       "    .dataframe tbody tr th {\n",
       "        vertical-align: top;\n",
       "    }\n",
       "\n",
       "    .dataframe thead th {\n",
       "        text-align: right;\n",
       "    }\n",
       "</style>\n",
       "<table border=\"1\" class=\"dataframe\">\n",
       "  <thead>\n",
       "    <tr style=\"text-align: right;\">\n",
       "      <th></th>\n",
       "      <th>Country</th>\n",
       "      <th>Rank</th>\n",
       "      <th>Ladder_score</th>\n",
       "      <th>Logged_gdp_per_capita</th>\n",
       "      <th>Social_support</th>\n",
       "      <th>Healthy_life_expectancy</th>\n",
       "      <th>Freedom_to_make_life_choices</th>\n",
       "      <th>Generosity</th>\n",
       "      <th>Perceptions_of_corruption</th>\n",
       "    </tr>\n",
       "  </thead>\n",
       "  <tbody>\n",
       "    <tr>\n",
       "      <th>0</th>\n",
       "      <td>Switzerland</td>\n",
       "      <td>1</td>\n",
       "      <td>7.587</td>\n",
       "      <td>1.39651</td>\n",
       "      <td>1.34951</td>\n",
       "      <td>0.94143</td>\n",
       "      <td>0.66557</td>\n",
       "      <td>0.41978</td>\n",
       "      <td>0.29678</td>\n",
       "    </tr>\n",
       "    <tr>\n",
       "      <th>1</th>\n",
       "      <td>Iceland</td>\n",
       "      <td>2</td>\n",
       "      <td>7.561</td>\n",
       "      <td>1.30232</td>\n",
       "      <td>1.40223</td>\n",
       "      <td>0.94784</td>\n",
       "      <td>0.62877</td>\n",
       "      <td>0.14145</td>\n",
       "      <td>0.43630</td>\n",
       "    </tr>\n",
       "    <tr>\n",
       "      <th>2</th>\n",
       "      <td>Denmark</td>\n",
       "      <td>3</td>\n",
       "      <td>7.527</td>\n",
       "      <td>1.32548</td>\n",
       "      <td>1.36058</td>\n",
       "      <td>0.87464</td>\n",
       "      <td>0.64938</td>\n",
       "      <td>0.48357</td>\n",
       "      <td>0.34139</td>\n",
       "    </tr>\n",
       "    <tr>\n",
       "      <th>3</th>\n",
       "      <td>Norway</td>\n",
       "      <td>4</td>\n",
       "      <td>7.522</td>\n",
       "      <td>1.45900</td>\n",
       "      <td>1.33095</td>\n",
       "      <td>0.88521</td>\n",
       "      <td>0.66973</td>\n",
       "      <td>0.36503</td>\n",
       "      <td>0.34699</td>\n",
       "    </tr>\n",
       "    <tr>\n",
       "      <th>4</th>\n",
       "      <td>Canada</td>\n",
       "      <td>5</td>\n",
       "      <td>7.427</td>\n",
       "      <td>1.32629</td>\n",
       "      <td>1.32261</td>\n",
       "      <td>0.90563</td>\n",
       "      <td>0.63297</td>\n",
       "      <td>0.32957</td>\n",
       "      <td>0.45811</td>\n",
       "    </tr>\n",
       "  </tbody>\n",
       "</table>\n",
       "</div>"
      ],
      "text/plain": [
       "       Country  Rank  Ladder_score  Logged_gdp_per_capita  Social_support   \n",
       "0  Switzerland     1         7.587                1.39651         1.34951  \\\n",
       "1      Iceland     2         7.561                1.30232         1.40223   \n",
       "2      Denmark     3         7.527                1.32548         1.36058   \n",
       "3       Norway     4         7.522                1.45900         1.33095   \n",
       "4       Canada     5         7.427                1.32629         1.32261   \n",
       "\n",
       "   Healthy_life_expectancy  Freedom_to_make_life_choices  Generosity   \n",
       "0                  0.94143                       0.66557     0.41978  \\\n",
       "1                  0.94784                       0.62877     0.14145   \n",
       "2                  0.87464                       0.64938     0.48357   \n",
       "3                  0.88521                       0.66973     0.36503   \n",
       "4                  0.90563                       0.63297     0.32957   \n",
       "\n",
       "   Perceptions_of_corruption  \n",
       "0                    0.29678  \n",
       "1                    0.43630  \n",
       "2                    0.34139  \n",
       "3                    0.34699  \n",
       "4                    0.45811  "
      ]
     },
     "execution_count": 20,
     "metadata": {},
     "output_type": "execute_result"
    }
   ],
   "source": [
    "data15.head()"
   ]
  },
  {
   "cell_type": "code",
   "execution_count": null,
   "metadata": {},
   "outputs": [],
   "source": [
    "# Explained by: Healthy life expectancy:\n",
    "\n",
    "indices = [95, 96, 97, 98, 99, 100, 101]\n",
    "columna2 = 'Explained by: Healthy life expectancy'\n",
    "\n",
    "media2 = df.loc[indices, columna2].mean()\n",
    "\n",
    "print(\"La media de los valores es\", media)"
   ]
  }
 ],
 "metadata": {
  "kernelspec": {
   "display_name": "ironhack",
   "language": "python",
   "name": "python3"
  },
  "language_info": {
   "codemirror_mode": {
    "name": "ipython",
    "version": 3
   },
   "file_extension": ".py",
   "mimetype": "text/x-python",
   "name": "python",
   "nbconvert_exporter": "python",
   "pygments_lexer": "ipython3",
   "version": "3.9.16"
  },
  "orig_nbformat": 4
 },
 "nbformat": 4,
 "nbformat_minor": 2
}
