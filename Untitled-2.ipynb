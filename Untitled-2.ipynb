{
 "cells": [
  {
   "cell_type": "code",
   "execution_count": 175,
   "metadata": {},
   "outputs": [],
   "source": [
    "# EDA"
   ]
  },
  {
   "cell_type": "code",
   "execution_count": 176,
   "metadata": {},
   "outputs": [],
   "source": [
    "import pandas as pd\n",
    "import numpy as np\n",
    "import matplotlib.pyplot as plt\n",
    "import seaborn as sns\n",
    "import plotly.express as px"
   ]
  },
  {
   "attachments": {},
   "cell_type": "markdown",
   "metadata": {},
   "source": [
    "Imagina una escalera: en la parte superior se encuentra la representación de la vida ideal para ti, mientras que en la parte inferior se encuentra la representación de la peor vida posible. ¿En qué escalón de esa escalera te encuentras?\n",
    "\n",
    "Esta, entre otras preguntas y cálculos, es lo que utiliza las Naciones Unidas para elaborar un informe anual en el que se analizan los niveles de felicidad de 137 países en el mundo. \n",
    "\n",
    "La consultora Gallup es la encargada de elaborar las encuestas y de recoger la información. Utilizan la escala de Cantril para \n",
    "\n",
    "\n",
    "\n",
    "\n",
    "\n",
    "\n",
    "\n",
    "\n",
    "\n",
    "\n",
    "\n",
    "\n",
    "\n",
    "\n",
    "\n",
    "\n",
    "\n",
    "\n",
    ", en la que la mejor vida posible para ellos sería un 10 y la peor vida posible un 0. A continuación, se les pide que valoren su propia vida actual en esa escala de 0 a 10. Las clasificaciones proceden de muestras representativas a escala nacional a lo largo de tres años.\n",
    "\n",
    "Estas puntuaciones de la escala de Cantril se relacionan con los siguientes factores:\n",
    "\n",
    "PIB per cápita: se utiliza la paridad de poder adquisitivo (PPA) a precios internacionales constantes del dólar de 2017, obtenidos de los Indicadores de Desarrollo Mundial (WDI).\n",
    "\n",
    "Esperanza de vida saludable: se basa en los datos extraídos del informe mundial de la Organización Mundial de la Salud (OMS).\n",
    "\n",
    "Apoyo social: se refiere a tener a alguien en quien confiar en momentos difíciles. Se calcula como la media nacional de respuestas binarias (0 o 1) a la pregunta \"¿Si tienes problemas, tienes familiares o amigos en quienes puedes confiar y que te ayudarían siempre que lo necesites?\"\n",
    "\n",
    "Libertad de elección en la vida: se refiere a la satisfacción con la libertad de elegir lo que hacer en la vida. Se calcula como la media nacional de respuestas a la pregunta \"¿Estás satisfecho o insatisfecho con tu libertad para elegir lo que hacer con tu vida?\"\n",
    "\n",
    "Generosidad: se obtiene como el residuo de la regresión de la media nacional de respuestas a la pregunta \"¿Has donado dinero a una organización benéfica en el último mes?\" por persona.\n",
    "\n",
    "Percepción de la corrupción: se calcula como la media nacional de respuestas a dos preguntas sobre la corrupción en el gobierno y en las empresas. La percepción global es simplemente la media de las dos respuestas, que pueden ser 0 o 1."
   ]
  },
  {
   "cell_type": "code",
   "execution_count": 177,
   "metadata": {},
   "outputs": [],
   "source": [
    "df = pd.read_csv('WHR2023 (1).csv')"
   ]
  },
  {
   "cell_type": "code",
   "execution_count": 178,
   "metadata": {},
   "outputs": [
    {
     "data": {
      "text/html": [
       "<div>\n",
       "<style scoped>\n",
       "    .dataframe tbody tr th:only-of-type {\n",
       "        vertical-align: middle;\n",
       "    }\n",
       "\n",
       "    .dataframe tbody tr th {\n",
       "        vertical-align: top;\n",
       "    }\n",
       "\n",
       "    .dataframe thead th {\n",
       "        text-align: right;\n",
       "    }\n",
       "</style>\n",
       "<table border=\"1\" class=\"dataframe\">\n",
       "  <thead>\n",
       "    <tr style=\"text-align: right;\">\n",
       "      <th></th>\n",
       "      <th>Country name</th>\n",
       "      <th>Ladder score</th>\n",
       "      <th>Standard error of ladder score</th>\n",
       "      <th>upperwhisker</th>\n",
       "      <th>lowerwhisker</th>\n",
       "      <th>Logged GDP per capita</th>\n",
       "      <th>Social support</th>\n",
       "      <th>Healthy life expectancy</th>\n",
       "      <th>Freedom to make life choices</th>\n",
       "      <th>Generosity</th>\n",
       "      <th>Perceptions of corruption</th>\n",
       "      <th>Ladder score in Dystopia</th>\n",
       "      <th>Explained by: Log GDP per capita</th>\n",
       "      <th>Explained by: Social support</th>\n",
       "      <th>Explained by: Healthy life expectancy</th>\n",
       "      <th>Explained by: Freedom to make life choices</th>\n",
       "      <th>Explained by: Generosity</th>\n",
       "      <th>Explained by: Perceptions of corruption</th>\n",
       "      <th>Dystopia + residual</th>\n",
       "    </tr>\n",
       "  </thead>\n",
       "  <tbody>\n",
       "    <tr>\n",
       "      <th>0</th>\n",
       "      <td>Finland</td>\n",
       "      <td>7.804</td>\n",
       "      <td>0.036</td>\n",
       "      <td>7.875</td>\n",
       "      <td>7.733</td>\n",
       "      <td>10.792</td>\n",
       "      <td>0.969</td>\n",
       "      <td>71.150</td>\n",
       "      <td>0.961</td>\n",
       "      <td>-0.019</td>\n",
       "      <td>0.182</td>\n",
       "      <td>1.778</td>\n",
       "      <td>1.888</td>\n",
       "      <td>1.585</td>\n",
       "      <td>0.535</td>\n",
       "      <td>0.772</td>\n",
       "      <td>0.126</td>\n",
       "      <td>0.535</td>\n",
       "      <td>2.363</td>\n",
       "    </tr>\n",
       "    <tr>\n",
       "      <th>1</th>\n",
       "      <td>Denmark</td>\n",
       "      <td>7.586</td>\n",
       "      <td>0.041</td>\n",
       "      <td>7.667</td>\n",
       "      <td>7.506</td>\n",
       "      <td>10.962</td>\n",
       "      <td>0.954</td>\n",
       "      <td>71.250</td>\n",
       "      <td>0.934</td>\n",
       "      <td>0.134</td>\n",
       "      <td>0.196</td>\n",
       "      <td>1.778</td>\n",
       "      <td>1.949</td>\n",
       "      <td>1.548</td>\n",
       "      <td>0.537</td>\n",
       "      <td>0.734</td>\n",
       "      <td>0.208</td>\n",
       "      <td>0.525</td>\n",
       "      <td>2.084</td>\n",
       "    </tr>\n",
       "    <tr>\n",
       "      <th>2</th>\n",
       "      <td>Iceland</td>\n",
       "      <td>7.530</td>\n",
       "      <td>0.049</td>\n",
       "      <td>7.625</td>\n",
       "      <td>7.434</td>\n",
       "      <td>10.896</td>\n",
       "      <td>0.983</td>\n",
       "      <td>72.050</td>\n",
       "      <td>0.936</td>\n",
       "      <td>0.211</td>\n",
       "      <td>0.668</td>\n",
       "      <td>1.778</td>\n",
       "      <td>1.926</td>\n",
       "      <td>1.620</td>\n",
       "      <td>0.559</td>\n",
       "      <td>0.738</td>\n",
       "      <td>0.250</td>\n",
       "      <td>0.187</td>\n",
       "      <td>2.250</td>\n",
       "    </tr>\n",
       "    <tr>\n",
       "      <th>3</th>\n",
       "      <td>Israel</td>\n",
       "      <td>7.473</td>\n",
       "      <td>0.032</td>\n",
       "      <td>7.535</td>\n",
       "      <td>7.411</td>\n",
       "      <td>10.639</td>\n",
       "      <td>0.943</td>\n",
       "      <td>72.697</td>\n",
       "      <td>0.809</td>\n",
       "      <td>-0.023</td>\n",
       "      <td>0.708</td>\n",
       "      <td>1.778</td>\n",
       "      <td>1.833</td>\n",
       "      <td>1.521</td>\n",
       "      <td>0.577</td>\n",
       "      <td>0.569</td>\n",
       "      <td>0.124</td>\n",
       "      <td>0.158</td>\n",
       "      <td>2.691</td>\n",
       "    </tr>\n",
       "    <tr>\n",
       "      <th>4</th>\n",
       "      <td>Netherlands</td>\n",
       "      <td>7.403</td>\n",
       "      <td>0.029</td>\n",
       "      <td>7.460</td>\n",
       "      <td>7.346</td>\n",
       "      <td>10.942</td>\n",
       "      <td>0.930</td>\n",
       "      <td>71.550</td>\n",
       "      <td>0.887</td>\n",
       "      <td>0.213</td>\n",
       "      <td>0.379</td>\n",
       "      <td>1.778</td>\n",
       "      <td>1.942</td>\n",
       "      <td>1.488</td>\n",
       "      <td>0.545</td>\n",
       "      <td>0.672</td>\n",
       "      <td>0.251</td>\n",
       "      <td>0.394</td>\n",
       "      <td>2.110</td>\n",
       "    </tr>\n",
       "  </tbody>\n",
       "</table>\n",
       "</div>"
      ],
      "text/plain": [
       "  Country name  Ladder score  Standard error of ladder score  upperwhisker   \n",
       "0      Finland         7.804                           0.036         7.875  \\\n",
       "1      Denmark         7.586                           0.041         7.667   \n",
       "2      Iceland         7.530                           0.049         7.625   \n",
       "3       Israel         7.473                           0.032         7.535   \n",
       "4  Netherlands         7.403                           0.029         7.460   \n",
       "\n",
       "   lowerwhisker  Logged GDP per capita  Social support   \n",
       "0         7.733                 10.792           0.969  \\\n",
       "1         7.506                 10.962           0.954   \n",
       "2         7.434                 10.896           0.983   \n",
       "3         7.411                 10.639           0.943   \n",
       "4         7.346                 10.942           0.930   \n",
       "\n",
       "   Healthy life expectancy  Freedom to make life choices  Generosity   \n",
       "0                   71.150                         0.961      -0.019  \\\n",
       "1                   71.250                         0.934       0.134   \n",
       "2                   72.050                         0.936       0.211   \n",
       "3                   72.697                         0.809      -0.023   \n",
       "4                   71.550                         0.887       0.213   \n",
       "\n",
       "   Perceptions of corruption  Ladder score in Dystopia   \n",
       "0                      0.182                     1.778  \\\n",
       "1                      0.196                     1.778   \n",
       "2                      0.668                     1.778   \n",
       "3                      0.708                     1.778   \n",
       "4                      0.379                     1.778   \n",
       "\n",
       "   Explained by: Log GDP per capita  Explained by: Social support   \n",
       "0                             1.888                         1.585  \\\n",
       "1                             1.949                         1.548   \n",
       "2                             1.926                         1.620   \n",
       "3                             1.833                         1.521   \n",
       "4                             1.942                         1.488   \n",
       "\n",
       "   Explained by: Healthy life expectancy   \n",
       "0                                  0.535  \\\n",
       "1                                  0.537   \n",
       "2                                  0.559   \n",
       "3                                  0.577   \n",
       "4                                  0.545   \n",
       "\n",
       "   Explained by: Freedom to make life choices  Explained by: Generosity   \n",
       "0                                       0.772                     0.126  \\\n",
       "1                                       0.734                     0.208   \n",
       "2                                       0.738                     0.250   \n",
       "3                                       0.569                     0.124   \n",
       "4                                       0.672                     0.251   \n",
       "\n",
       "   Explained by: Perceptions of corruption  Dystopia + residual  \n",
       "0                                    0.535                2.363  \n",
       "1                                    0.525                2.084  \n",
       "2                                    0.187                2.250  \n",
       "3                                    0.158                2.691  \n",
       "4                                    0.394                2.110  "
      ]
     },
     "execution_count": 178,
     "metadata": {},
     "output_type": "execute_result"
    }
   ],
   "source": [
    "df.head()"
   ]
  },
  {
   "cell_type": "code",
   "execution_count": 179,
   "metadata": {},
   "outputs": [
    {
     "data": {
      "text/plain": [
       "Index(['Country name', 'Ladder score', 'Standard error of ladder score',\n",
       "       'upperwhisker', 'lowerwhisker', 'Logged GDP per capita',\n",
       "       'Social support', 'Healthy life expectancy',\n",
       "       'Freedom to make life choices', 'Generosity',\n",
       "       'Perceptions of corruption', 'Ladder score in Dystopia',\n",
       "       'Explained by: Log GDP per capita', 'Explained by: Social support',\n",
       "       'Explained by: Healthy life expectancy',\n",
       "       'Explained by: Freedom to make life choices',\n",
       "       'Explained by: Generosity', 'Explained by: Perceptions of corruption',\n",
       "       'Dystopia + residual'],\n",
       "      dtype='object')"
      ]
     },
     "execution_count": 179,
     "metadata": {},
     "output_type": "execute_result"
    }
   ],
   "source": [
    "df.columns"
   ]
  },
  {
   "cell_type": "code",
   "execution_count": 180,
   "metadata": {},
   "outputs": [
    {
     "name": "stdout",
     "output_type": "stream",
     "text": [
      "<class 'pandas.core.frame.DataFrame'>\n",
      "RangeIndex: 137 entries, 0 to 136\n",
      "Data columns (total 19 columns):\n",
      " #   Column                                      Non-Null Count  Dtype  \n",
      "---  ------                                      --------------  -----  \n",
      " 0   Country name                                137 non-null    object \n",
      " 1   Ladder score                                137 non-null    float64\n",
      " 2   Standard error of ladder score              137 non-null    float64\n",
      " 3   upperwhisker                                137 non-null    float64\n",
      " 4   lowerwhisker                                137 non-null    float64\n",
      " 5   Logged GDP per capita                       137 non-null    float64\n",
      " 6   Social support                              137 non-null    float64\n",
      " 7   Healthy life expectancy                     136 non-null    float64\n",
      " 8   Freedom to make life choices                137 non-null    float64\n",
      " 9   Generosity                                  137 non-null    float64\n",
      " 10  Perceptions of corruption                   137 non-null    float64\n",
      " 11  Ladder score in Dystopia                    137 non-null    float64\n",
      " 12  Explained by: Log GDP per capita            137 non-null    float64\n",
      " 13  Explained by: Social support                137 non-null    float64\n",
      " 14  Explained by: Healthy life expectancy       136 non-null    float64\n",
      " 15  Explained by: Freedom to make life choices  137 non-null    float64\n",
      " 16  Explained by: Generosity                    137 non-null    float64\n",
      " 17  Explained by: Perceptions of corruption     137 non-null    float64\n",
      " 18  Dystopia + residual                         136 non-null    float64\n",
      "dtypes: float64(18), object(1)\n",
      "memory usage: 20.5+ KB\n"
     ]
    }
   ],
   "source": [
    "df.info()"
   ]
  },
  {
   "cell_type": "code",
   "execution_count": 181,
   "metadata": {},
   "outputs": [
    {
     "name": "stdout",
     "output_type": "stream",
     "text": [
      "Index([98], dtype='int64')\n"
     ]
    }
   ],
   "source": [
    "# Quiero encontrar la filas con valores nulos en la columna 'Healthy life expectancy'\n",
    "\n",
    "hlf_nulo = 'Healthy life expectancy'\n",
    "filas_nulas = df[df[hlf_nulo].isnull()]\n",
    "indices_nulos = filas_nulas.index\n",
    "print(indices_nulos)"
   ]
  },
  {
   "cell_type": "code",
   "execution_count": 182,
   "metadata": {},
   "outputs": [
    {
     "data": {
      "text/plain": [
       "Country name                                  State of Palestine\n",
       "Ladder score                                               4.908\n",
       "Standard error of ladder score                             0.092\n",
       "upperwhisker                                               5.089\n",
       "lowerwhisker                                               4.727\n",
       "Logged GDP per capita                                      8.716\n",
       "Social support                                             0.859\n",
       "Healthy life expectancy                                      NaN\n",
       "Freedom to make life choices                               0.694\n",
       "Generosity                                                -0.132\n",
       "Perceptions of corruption                                  0.836\n",
       "Ladder score in Dystopia                                   1.778\n",
       "Explained by: Log GDP per capita                           1.144\n",
       "Explained by: Social support                               1.309\n",
       "Explained by: Healthy life expectancy                        NaN\n",
       "Explained by: Freedom to make life choices                 0.416\n",
       "Explained by: Generosity                                   0.065\n",
       "Explained by: Perceptions of corruption                    0.067\n",
       "Dystopia + residual                                          NaN\n",
       "Name: 98, dtype: object"
      ]
     },
     "execution_count": 182,
     "metadata": {},
     "output_type": "execute_result"
    }
   ],
   "source": [
    "df.loc[98]"
   ]
  },
  {
   "cell_type": "code",
   "execution_count": 183,
   "metadata": {},
   "outputs": [],
   "source": [
    "# Vemos que los valores nulos de las columnas 'Healthy life expectancy' y 'Explained by: Healthy life expectancy' corresponden a Palestina\n",
    "# Procedemos a rellenarlos con la media de los países cercanos a su posición en el ranking\n",
    "# Para esto, vamos a añadir primero una columna llamada Rank, con la posición que ocupa cada país con respecto al ranking según la felicidad "
   ]
  },
  {
   "cell_type": "code",
   "execution_count": 184,
   "metadata": {},
   "outputs": [],
   "source": [
    "df.insert(loc=1, column='Rank', value=range(1, len(df) + 1))"
   ]
  },
  {
   "cell_type": "code",
   "execution_count": 185,
   "metadata": {},
   "outputs": [],
   "source": [
    "# Ahora vamos a observar las puntuaciones de esas dos columnas de los países cercanos a Palestina en el ranking\n",
    "# Observaremos los 3 que aparecen por encima y los 3 que aparecen por debajo"
   ]
  },
  {
   "cell_type": "code",
   "execution_count": 186,
   "metadata": {},
   "outputs": [
    {
     "data": {
      "text/html": [
       "<div>\n",
       "<style scoped>\n",
       "    .dataframe tbody tr th:only-of-type {\n",
       "        vertical-align: middle;\n",
       "    }\n",
       "\n",
       "    .dataframe tbody tr th {\n",
       "        vertical-align: top;\n",
       "    }\n",
       "\n",
       "    .dataframe thead th {\n",
       "        text-align: right;\n",
       "    }\n",
       "</style>\n",
       "<table border=\"1\" class=\"dataframe\">\n",
       "  <thead>\n",
       "    <tr style=\"text-align: right;\">\n",
       "      <th></th>\n",
       "      <th>Healthy life expectancy</th>\n",
       "      <th>Explained by: Healthy life expectancy</th>\n",
       "    </tr>\n",
       "  </thead>\n",
       "  <tbody>\n",
       "    <tr>\n",
       "      <th>95</th>\n",
       "      <td>55.847</td>\n",
       "      <td>0.118</td>\n",
       "    </tr>\n",
       "    <tr>\n",
       "      <th>96</th>\n",
       "      <td>51.530</td>\n",
       "      <td>0.000</td>\n",
       "    </tr>\n",
       "    <tr>\n",
       "      <th>97</th>\n",
       "      <td>63.415</td>\n",
       "      <td>0.324</td>\n",
       "    </tr>\n",
       "    <tr>\n",
       "      <th>98</th>\n",
       "      <td>NaN</td>\n",
       "      <td>NaN</td>\n",
       "    </tr>\n",
       "    <tr>\n",
       "      <th>99</th>\n",
       "      <td>63.901</td>\n",
       "      <td>0.337</td>\n",
       "    </tr>\n",
       "    <tr>\n",
       "      <th>100</th>\n",
       "      <td>66.600</td>\n",
       "      <td>0.411</td>\n",
       "    </tr>\n",
       "    <tr>\n",
       "      <th>101</th>\n",
       "      <td>59.999</td>\n",
       "      <td>0.231</td>\n",
       "    </tr>\n",
       "  </tbody>\n",
       "</table>\n",
       "</div>"
      ],
      "text/plain": [
       "     Healthy life expectancy  Explained by: Healthy life expectancy\n",
       "95                    55.847                                  0.118\n",
       "96                    51.530                                  0.000\n",
       "97                    63.415                                  0.324\n",
       "98                       NaN                                    NaN\n",
       "99                    63.901                                  0.337\n",
       "100                   66.600                                  0.411\n",
       "101                   59.999                                  0.231"
      ]
     },
     "execution_count": 186,
     "metadata": {},
     "output_type": "execute_result"
    }
   ],
   "source": [
    "indices = [95, 96, 97, 98, 99, 100, 101]\n",
    "columnas_healthy = ['Healthy life expectancy', 'Explained by: Healthy life expectancy']\n",
    "tabla = df.loc[indices, columnas_healthy]\n",
    "tabla"
   ]
  },
  {
   "cell_type": "code",
   "execution_count": 187,
   "metadata": {},
   "outputs": [
    {
     "data": {
      "text/plain": [
       "60.21533333333334"
      ]
     },
     "execution_count": 187,
     "metadata": {},
     "output_type": "execute_result"
    }
   ],
   "source": [
    "# Rellenaremos estos valores con la media de los que le rodean\n",
    "# Healthy life expectancy:\n",
    "\n",
    "indices = [95, 96, 97, 98, 99, 100, 101]\n",
    "columna = 'Healthy life expectancy'\n",
    "\n",
    "media = df.loc[indices, columna].mean()\n",
    "\n",
    "media"
   ]
  },
  {
   "cell_type": "code",
   "execution_count": 188,
   "metadata": {},
   "outputs": [
    {
     "data": {
      "text/plain": [
       "0.23683333333333334"
      ]
     },
     "execution_count": 188,
     "metadata": {},
     "output_type": "execute_result"
    }
   ],
   "source": [
    "# Explained by: Healthy life expectancy:\n",
    "\n",
    "indices = [95, 96, 97, 98, 99, 100, 101]\n",
    "columna2 = 'Explained by: Healthy life expectancy'\n",
    "\n",
    "media2 = df.loc[indices, columna2].mean()\n",
    "\n",
    "media2"
   ]
  },
  {
   "cell_type": "code",
   "execution_count": 189,
   "metadata": {},
   "outputs": [],
   "source": [
    "# Ahora sustituimos estos valores por los valores nulos\n",
    "\n",
    "fill_values = {'Healthy life expectancy': 60.215, 'Explained by: Healthy life expectancy': 0.236}\n",
    "\n",
    "df[['Healthy life expectancy', 'Explained by: Healthy life expectancy']] = df[['Healthy life expectancy', 'Explained by: Healthy life expectancy']].fillna(value=fill_values)\n"
   ]
  },
  {
   "cell_type": "code",
   "execution_count": 190,
   "metadata": {},
   "outputs": [
    {
     "data": {
      "text/html": [
       "<div>\n",
       "<style scoped>\n",
       "    .dataframe tbody tr th:only-of-type {\n",
       "        vertical-align: middle;\n",
       "    }\n",
       "\n",
       "    .dataframe tbody tr th {\n",
       "        vertical-align: top;\n",
       "    }\n",
       "\n",
       "    .dataframe thead th {\n",
       "        text-align: right;\n",
       "    }\n",
       "</style>\n",
       "<table border=\"1\" class=\"dataframe\">\n",
       "  <thead>\n",
       "    <tr style=\"text-align: right;\">\n",
       "      <th></th>\n",
       "      <th>Healthy life expectancy</th>\n",
       "      <th>Explained by: Healthy life expectancy</th>\n",
       "    </tr>\n",
       "  </thead>\n",
       "  <tbody>\n",
       "    <tr>\n",
       "      <th>95</th>\n",
       "      <td>55.847</td>\n",
       "      <td>0.118</td>\n",
       "    </tr>\n",
       "    <tr>\n",
       "      <th>96</th>\n",
       "      <td>51.530</td>\n",
       "      <td>0.000</td>\n",
       "    </tr>\n",
       "    <tr>\n",
       "      <th>97</th>\n",
       "      <td>63.415</td>\n",
       "      <td>0.324</td>\n",
       "    </tr>\n",
       "    <tr>\n",
       "      <th>98</th>\n",
       "      <td>60.215</td>\n",
       "      <td>0.236</td>\n",
       "    </tr>\n",
       "    <tr>\n",
       "      <th>99</th>\n",
       "      <td>63.901</td>\n",
       "      <td>0.337</td>\n",
       "    </tr>\n",
       "    <tr>\n",
       "      <th>100</th>\n",
       "      <td>66.600</td>\n",
       "      <td>0.411</td>\n",
       "    </tr>\n",
       "    <tr>\n",
       "      <th>101</th>\n",
       "      <td>59.999</td>\n",
       "      <td>0.231</td>\n",
       "    </tr>\n",
       "  </tbody>\n",
       "</table>\n",
       "</div>"
      ],
      "text/plain": [
       "     Healthy life expectancy  Explained by: Healthy life expectancy\n",
       "95                    55.847                                  0.118\n",
       "96                    51.530                                  0.000\n",
       "97                    63.415                                  0.324\n",
       "98                    60.215                                  0.236\n",
       "99                    63.901                                  0.337\n",
       "100                   66.600                                  0.411\n",
       "101                   59.999                                  0.231"
      ]
     },
     "execution_count": 190,
     "metadata": {},
     "output_type": "execute_result"
    }
   ],
   "source": [
    "indices = [95, 96, 97, 98, 99, 100, 101]\n",
    "columnas_healthy = ['Healthy life expectancy', 'Explained by: Healthy life expectancy']\n",
    "tabla = df.loc[indices, columnas_healthy]\n",
    "tabla"
   ]
  },
  {
   "cell_type": "code",
   "execution_count": 191,
   "metadata": {},
   "outputs": [
    {
     "name": "stdout",
     "output_type": "stream",
     "text": [
      "<class 'pandas.core.frame.DataFrame'>\n",
      "RangeIndex: 137 entries, 0 to 136\n",
      "Data columns (total 20 columns):\n",
      " #   Column                                      Non-Null Count  Dtype  \n",
      "---  ------                                      --------------  -----  \n",
      " 0   Country name                                137 non-null    object \n",
      " 1   Rank                                        137 non-null    int64  \n",
      " 2   Ladder score                                137 non-null    float64\n",
      " 3   Standard error of ladder score              137 non-null    float64\n",
      " 4   upperwhisker                                137 non-null    float64\n",
      " 5   lowerwhisker                                137 non-null    float64\n",
      " 6   Logged GDP per capita                       137 non-null    float64\n",
      " 7   Social support                              137 non-null    float64\n",
      " 8   Healthy life expectancy                     137 non-null    float64\n",
      " 9   Freedom to make life choices                137 non-null    float64\n",
      " 10  Generosity                                  137 non-null    float64\n",
      " 11  Perceptions of corruption                   137 non-null    float64\n",
      " 12  Ladder score in Dystopia                    137 non-null    float64\n",
      " 13  Explained by: Log GDP per capita            137 non-null    float64\n",
      " 14  Explained by: Social support                137 non-null    float64\n",
      " 15  Explained by: Healthy life expectancy       137 non-null    float64\n",
      " 16  Explained by: Freedom to make life choices  137 non-null    float64\n",
      " 17  Explained by: Generosity                    137 non-null    float64\n",
      " 18  Explained by: Perceptions of corruption     137 non-null    float64\n",
      " 19  Dystopia + residual                         136 non-null    float64\n",
      "dtypes: float64(18), int64(1), object(1)\n",
      "memory usage: 21.5+ KB\n"
     ]
    }
   ],
   "source": [
    "# Ahora ya no hay valores nulos en nuestro df\n",
    "\n",
    "df.info()"
   ]
  },
  {
   "cell_type": "code",
   "execution_count": 192,
   "metadata": {},
   "outputs": [
    {
     "data": {
      "text/html": [
       "<div>\n",
       "<style scoped>\n",
       "    .dataframe tbody tr th:only-of-type {\n",
       "        vertical-align: middle;\n",
       "    }\n",
       "\n",
       "    .dataframe tbody tr th {\n",
       "        vertical-align: top;\n",
       "    }\n",
       "\n",
       "    .dataframe thead th {\n",
       "        text-align: right;\n",
       "    }\n",
       "</style>\n",
       "<table border=\"1\" class=\"dataframe\">\n",
       "  <thead>\n",
       "    <tr style=\"text-align: right;\">\n",
       "      <th></th>\n",
       "      <th>Country name</th>\n",
       "      <th>Rank</th>\n",
       "      <th>Ladder score</th>\n",
       "      <th>Standard error of ladder score</th>\n",
       "      <th>upperwhisker</th>\n",
       "      <th>lowerwhisker</th>\n",
       "      <th>Logged GDP per capita</th>\n",
       "      <th>Social support</th>\n",
       "      <th>Healthy life expectancy</th>\n",
       "      <th>Freedom to make life choices</th>\n",
       "      <th>Generosity</th>\n",
       "      <th>Perceptions of corruption</th>\n",
       "      <th>Ladder score in Dystopia</th>\n",
       "      <th>Explained by: Log GDP per capita</th>\n",
       "      <th>Explained by: Social support</th>\n",
       "      <th>Explained by: Healthy life expectancy</th>\n",
       "      <th>Explained by: Freedom to make life choices</th>\n",
       "      <th>Explained by: Generosity</th>\n",
       "      <th>Explained by: Perceptions of corruption</th>\n",
       "      <th>Dystopia + residual</th>\n",
       "    </tr>\n",
       "  </thead>\n",
       "  <tbody>\n",
       "  </tbody>\n",
       "</table>\n",
       "</div>"
      ],
      "text/plain": [
       "Empty DataFrame\n",
       "Columns: [Country name, Rank, Ladder score, Standard error of ladder score, upperwhisker, lowerwhisker, Logged GDP per capita, Social support, Healthy life expectancy, Freedom to make life choices, Generosity, Perceptions of corruption, Ladder score in Dystopia, Explained by: Log GDP per capita, Explained by: Social support, Explained by: Healthy life expectancy, Explained by: Freedom to make life choices, Explained by: Generosity, Explained by: Perceptions of corruption, Dystopia + residual]\n",
       "Index: []"
      ]
     },
     "execution_count": 192,
     "metadata": {},
     "output_type": "execute_result"
    }
   ],
   "source": [
    "# Comprobamos que no hay duplicados\n",
    "df.loc[df.duplicated()]"
   ]
  },
  {
   "cell_type": "code",
   "execution_count": 193,
   "metadata": {},
   "outputs": [],
   "source": [
    "# Remove all columns between column name 'Ladder score in Dystopia' to 'Dystopia + residual' \n",
    "df = df.drop(df.loc[:, 'Ladder score in Dystopia':'Dystopia + residual'].columns, axis=1)\n",
    "# Remove all columns between column name 'Standard error of ladder score' to 'lowerwhisker' \n",
    "df = df.drop(df.loc[:, 'Standard error of ladder score':'lowerwhisker'].columns, axis=1)"
   ]
  },
  {
   "cell_type": "code",
   "execution_count": 194,
   "metadata": {},
   "outputs": [
    {
     "name": "stdout",
     "output_type": "stream",
     "text": [
      "<class 'pandas.core.frame.DataFrame'>\n",
      "RangeIndex: 137 entries, 0 to 136\n",
      "Data columns (total 9 columns):\n",
      " #   Column                        Non-Null Count  Dtype  \n",
      "---  ------                        --------------  -----  \n",
      " 0   Country name                  137 non-null    object \n",
      " 1   Rank                          137 non-null    int64  \n",
      " 2   Ladder score                  137 non-null    float64\n",
      " 3   Logged GDP per capita         137 non-null    float64\n",
      " 4   Social support                137 non-null    float64\n",
      " 5   Healthy life expectancy       137 non-null    float64\n",
      " 6   Freedom to make life choices  137 non-null    float64\n",
      " 7   Generosity                    137 non-null    float64\n",
      " 8   Perceptions of corruption     137 non-null    float64\n",
      "dtypes: float64(7), int64(1), object(1)\n",
      "memory usage: 9.8+ KB\n"
     ]
    }
   ],
   "source": [
    "df.info()"
   ]
  },
  {
   "cell_type": "code",
   "execution_count": 195,
   "metadata": {},
   "outputs": [],
   "source": [
    "# Ahora vamos a renombrar las columnas para no inducir a errores tipográficos\n",
    "df = df.rename(columns={'Country name': 'Country'})"
   ]
  },
  {
   "cell_type": "code",
   "execution_count": 196,
   "metadata": {},
   "outputs": [],
   "source": [
    "df = df.rename(columns={'Ladder score': 'Ladder_score',\n",
    "                        'Logged GDP per capita': 'Logged_gdp_per_capita',\n",
    "                        'Social support': 'Social_support',\n",
    "                        'Healthy life expectancy': 'Healthy_life_expectancy',\n",
    "                        'Freedom to make life choices': 'Freedom_to_make_life_choices',\n",
    "                        'Perceptions of corruption': 'Perceptions_of_corruption'})\n"
   ]
  },
  {
   "cell_type": "code",
   "execution_count": 197,
   "metadata": {},
   "outputs": [
    {
     "data": {
      "text/plain": [
       "Index(['Country', 'Rank', 'Ladder_score', 'Logged_gdp_per_capita',\n",
       "       'Social_support', 'Healthy_life_expectancy',\n",
       "       'Freedom_to_make_life_choices', 'Generosity',\n",
       "       'Perceptions_of_corruption'],\n",
       "      dtype='object')"
      ]
     },
     "execution_count": 197,
     "metadata": {},
     "output_type": "execute_result"
    }
   ],
   "source": [
    "df.columns"
   ]
  },
  {
   "attachments": {},
   "cell_type": "markdown",
   "metadata": {},
   "source": [
    "LIMPIEZA HECHA, AHORA VAMOS A HACER OBSERVACIONES"
   ]
  },
  {
   "cell_type": "code",
   "execution_count": 198,
   "metadata": {},
   "outputs": [],
   "source": [
    "import pandas as pd\n",
    "import matplotlib.pyplot as plt"
   ]
  },
  {
   "cell_type": "code",
   "execution_count": 199,
   "metadata": {},
   "outputs": [
    {
     "name": "stdout",
     "output_type": "stream",
     "text": [
      "Requirement already satisfied: pycountry in /Users/joseluisreguera/opt/anaconda3/envs/ironhack/lib/python3.9/site-packages (22.3.5)\n",
      "Requirement already satisfied: pycountry_convert in /Users/joseluisreguera/opt/anaconda3/envs/ironhack/lib/python3.9/site-packages (0.7.2)\n",
      "Requirement already satisfied: geonamescache in /Users/joseluisreguera/opt/anaconda3/envs/ironhack/lib/python3.9/site-packages (1.6.0)\n",
      "Requirement already satisfied: setuptools in /Users/joseluisreguera/opt/anaconda3/envs/ironhack/lib/python3.9/site-packages (from pycountry) (66.0.0)\n",
      "Requirement already satisfied: pytest>=3.4.0 in /Users/joseluisreguera/opt/anaconda3/envs/ironhack/lib/python3.9/site-packages (from pycountry_convert) (7.3.1)\n",
      "Requirement already satisfied: repoze.lru>=0.7 in /Users/joseluisreguera/opt/anaconda3/envs/ironhack/lib/python3.9/site-packages (from pycountry_convert) (0.7)\n",
      "Requirement already satisfied: pytest-mock>=1.6.3 in /Users/joseluisreguera/opt/anaconda3/envs/ironhack/lib/python3.9/site-packages (from pycountry_convert) (3.10.0)\n",
      "Requirement already satisfied: pprintpp>=0.3.0 in /Users/joseluisreguera/opt/anaconda3/envs/ironhack/lib/python3.9/site-packages (from pycountry_convert) (0.4.0)\n",
      "Requirement already satisfied: wheel>=0.30.0 in /Users/joseluisreguera/opt/anaconda3/envs/ironhack/lib/python3.9/site-packages (from pycountry_convert) (0.38.4)\n",
      "Requirement already satisfied: pytest-cov>=2.5.1 in /Users/joseluisreguera/opt/anaconda3/envs/ironhack/lib/python3.9/site-packages (from pycountry_convert) (4.1.0)\n",
      "Requirement already satisfied: packaging in /Users/joseluisreguera/opt/anaconda3/envs/ironhack/lib/python3.9/site-packages (from pytest>=3.4.0->pycountry_convert) (23.0)\n",
      "Requirement already satisfied: iniconfig in /Users/joseluisreguera/opt/anaconda3/envs/ironhack/lib/python3.9/site-packages (from pytest>=3.4.0->pycountry_convert) (2.0.0)\n",
      "Requirement already satisfied: exceptiongroup>=1.0.0rc8 in /Users/joseluisreguera/opt/anaconda3/envs/ironhack/lib/python3.9/site-packages (from pytest>=3.4.0->pycountry_convert) (1.1.1)\n",
      "Requirement already satisfied: tomli>=1.0.0 in /Users/joseluisreguera/opt/anaconda3/envs/ironhack/lib/python3.9/site-packages (from pytest>=3.4.0->pycountry_convert) (2.0.1)\n",
      "Requirement already satisfied: pluggy<2.0,>=0.12 in /Users/joseluisreguera/opt/anaconda3/envs/ironhack/lib/python3.9/site-packages (from pytest>=3.4.0->pycountry_convert) (1.0.0)\n",
      "Requirement already satisfied: coverage[toml]>=5.2.1 in /Users/joseluisreguera/opt/anaconda3/envs/ironhack/lib/python3.9/site-packages (from pytest-cov>=2.5.1->pycountry_convert) (7.2.7)\n",
      "Note: you may need to restart the kernel to use updated packages.\n"
     ]
    }
   ],
   "source": [
    "%pip install pycountry pycountry_convert geonamescache\n"
   ]
  },
  {
   "cell_type": "code",
   "execution_count": 200,
   "metadata": {},
   "outputs": [
    {
     "name": "stdout",
     "output_type": "stream",
     "text": [
      "{'tanzania', 'iran', 'vietnam', 'russia', 'south korea', 'congo (brazzaville)', 'laos', 'moldova', 'bolivia', 'congo (kinshasa)', 'hong kong s.a.r. of china', 'taiwan province of china', 'turkiye', 'venezuela', 'ivory coast', 'kosovo', 'state of palestine'}\n"
     ]
    }
   ],
   "source": [
    "import pycountry\n",
    "\n",
    "# Obtener todos los países\n",
    "paises = set([pais.name.lower() for pais in pycountry.countries])\n",
    "\n",
    "# Verificar los nombres de los países en el DataFrame\n",
    "paises_df = set([nombre_pais.lower() for nombre_pais in df['Country'].values])\n",
    "\n",
    "# Obtener la lista de países no reconocidos por pycountry\n",
    "paises_no_reconocidos = paises_df - paises\n",
    "print(paises_no_reconocidos)"
   ]
  },
  {
   "cell_type": "code",
   "execution_count": 201,
   "metadata": {},
   "outputs": [
    {
     "name": "stdout",
     "output_type": "stream",
     "text": [
      "Países y continentes:\n",
      "Finland - None\n",
      "Denmark - None\n",
      "Iceland - None\n",
      "Israel - None\n",
      "Netherlands - None\n",
      "Sweden - None\n",
      "Norway - None\n",
      "Switzerland - None\n",
      "Luxembourg - None\n",
      "New Zealand - None\n",
      "Austria - None\n",
      "Australia - None\n",
      "Canada - None\n",
      "Ireland - None\n",
      "United States - None\n",
      "Germany - None\n",
      "Belgium - None\n",
      "Czechia - None\n",
      "United Kingdom - None\n",
      "Lithuania - None\n",
      "France - None\n",
      "Slovenia - None\n",
      "Costa Rica - None\n",
      "Romania - None\n",
      "Singapore - None\n",
      "United Arab Emirates - None\n",
      "Taiwan Province of China - None\n",
      "Uruguay - None\n",
      "Slovakia - None\n",
      "Saudi Arabia - None\n",
      "Estonia - None\n",
      "Spain - None\n",
      "Italy - None\n",
      "Kosovo - None\n",
      "Chile - None\n",
      "Mexico - None\n",
      "Malta - None\n",
      "Panama - None\n",
      "Poland - None\n",
      "Nicaragua - None\n",
      "Latvia - None\n",
      "Bahrain - None\n",
      "Guatemala - None\n",
      "Kazakhstan - None\n",
      "Serbia - None\n",
      "Cyprus - None\n",
      "Japan - None\n",
      "Croatia - None\n",
      "Brazil - None\n",
      "El Salvador - None\n",
      "Hungary - None\n",
      "Argentina - None\n",
      "Honduras - None\n",
      "Uzbekistan - None\n",
      "Malaysia - None\n",
      "Portugal - None\n",
      "South Korea - None\n",
      "Greece - None\n",
      "Mauritius - None\n",
      "Thailand - None\n",
      "Mongolia - None\n",
      "Kyrgyzstan - None\n",
      "Moldova - None\n",
      "China - None\n",
      "Vietnam - None\n",
      "Paraguay - None\n",
      "Montenegro - None\n",
      "Jamaica - None\n",
      "Bolivia - None\n",
      "Russia - None\n",
      "Bosnia and Herzegovina - None\n",
      "Colombia - None\n",
      "Dominican Republic - None\n",
      "Ecuador - None\n",
      "Peru - None\n",
      "Philippines - None\n",
      "Bulgaria - None\n",
      "Nepal - None\n",
      "Armenia - None\n",
      "Tajikistan - None\n",
      "Algeria - None\n",
      "Hong Kong S.A.R. of China - None\n",
      "Albania - None\n",
      "Indonesia - None\n",
      "South Africa - None\n",
      "Congo (Brazzaville) - None\n",
      "North Macedonia - None\n",
      "Venezuela - None\n",
      "Laos - None\n",
      "Georgia - None\n",
      "Guinea - None\n",
      "Ukraine - None\n",
      "Ivory Coast - None\n",
      "Gabon - None\n",
      "Nigeria - None\n",
      "Cameroon - None\n",
      "Mozambique - None\n",
      "Iraq - None\n",
      "State of Palestine - None\n",
      "Morocco - None\n",
      "Iran - None\n",
      "Senegal - None\n",
      "Mauritania - None\n",
      "Burkina Faso - None\n",
      "Namibia - None\n",
      "Turkiye - None\n",
      "Ghana - None\n",
      "Pakistan - None\n",
      "Niger - None\n",
      "Tunisia - None\n",
      "Kenya - None\n",
      "Sri Lanka - None\n",
      "Uganda - None\n",
      "Chad - None\n",
      "Cambodia - None\n",
      "Benin - None\n",
      "Myanmar - None\n",
      "Bangladesh - None\n",
      "Gambia - None\n",
      "Mali - None\n",
      "Egypt - None\n",
      "Togo - None\n",
      "Jordan - None\n",
      "Ethiopia - None\n",
      "Liberia - None\n",
      "India - None\n",
      "Madagascar - None\n",
      "Zambia - None\n",
      "Tanzania - None\n",
      "Comoros - None\n",
      "Malawi - None\n",
      "Botswana - None\n",
      "Congo (Kinshasa) - None\n",
      "Zimbabwe - None\n",
      "Sierra Leone - None\n",
      "Lebanon - None\n",
      "Afghanistan - None\n"
     ]
    }
   ],
   "source": [
    "import pycountry\n",
    "from difflib import get_close_matches\n",
    "\n",
    "# Obtener todos los países reconocidos por pycountry\n",
    "paises_reconocidos = {pais.name.lower(): pais.alpha_2 for pais in pycountry.countries}\n",
    "\n",
    "# Crear un diccionario para mapear los códigos de país con los continentes\n",
    "continentes = {}\n",
    "for pais in pycountry.countries:\n",
    "    if hasattr(pais, 'continent'):\n",
    "        continentes[pais.alpha_2] = pais.continent.name\n",
    "\n",
    "# Obtener los nombres de los países únicos en el DataFrame\n",
    "nombres_paises_df = set(df['Country'].str.lower())\n",
    "\n",
    "# Coincidencia aproximada de nombres de países con pycountry\n",
    "paises_coincidentes = {}\n",
    "for nombre_pais_df in nombres_paises_df:\n",
    "    pais_coincidente = get_close_matches(nombre_pais_df, paises_reconocidos.keys(), n=1)\n",
    "    if pais_coincidente:\n",
    "        paises_coincidentes[nombre_pais_df] = paises_reconocidos[pais_coincidente[0]]\n",
    "\n",
    "# Obtener la lista de continentes para los países coincidentes\n",
    "continentes_paises = [continentes.get(paises_coincidentes.get(nombre_pais.lower())) for nombre_pais in df['Country'].values]\n",
    "\n",
    "# Imprimir la lista de países con sus continentes correspondientes\n",
    "print(\"Países y continentes:\")\n",
    "for pais, continente in zip(df['Country'].values, continentes_paises):\n",
    "    print(pais, \"-\", continente)\n"
   ]
  },
  {
   "cell_type": "code",
   "execution_count": 202,
   "metadata": {},
   "outputs": [
    {
     "name": "stdout",
     "output_type": "stream",
     "text": [
      "Media Ladder Score: 5.539795620437956\n",
      "Media Logged GDP per capita: 9.449795620437955\n",
      "Media Social Support: 0.79907299270073\n",
      "Media Healthy Life Expectancy: 64.93294160583942\n",
      "Media Freedom to Make Life Choices: 0.7873941605839415\n",
      "Media Generosity: 0.022430656934306573\n",
      "Media Perceptions of Corruption: 0.7254014598540146\n"
     ]
    }
   ],
   "source": [
    "# Calculamos las medias de las columnas\n",
    "media_ladder_score23 = df['Ladder_score'].mean()\n",
    "media_logged_gdp_per_capita23 = df['Logged_gdp_per_capita'].mean()\n",
    "media_social_support23 = df['Social_support'].mean()\n",
    "media_healthy_life_expectancy23= df['Healthy_life_expectancy'].mean()\n",
    "media_freedom23 = df['Freedom_to_make_life_choices'].mean()\n",
    "media_generosity23 = df['Generosity'].mean()\n",
    "media_corruption23 = df['Perceptions_of_corruption'].mean()\n",
    "\n",
    "print(\"Media Ladder Score:\", media_ladder_score23)\n",
    "print(\"Media Logged GDP per capita:\", media_logged_gdp_per_capita23)\n",
    "print(\"Media Social Support:\", media_social_support23)\n",
    "print(\"Media Healthy Life Expectancy:\", media_healthy_life_expectancy23)\n",
    "print(\"Media Freedom to Make Life Choices:\", media_freedom23)\n",
    "print(\"Media Generosity:\", media_generosity23)\n",
    "print(\"Media Perceptions of Corruption:\", media_corruption23)"
   ]
  },
  {
   "cell_type": "code",
   "execution_count": 221,
   "metadata": {},
   "outputs": [],
   "source": [
    "# Ahora haremos lo mismo pero para el histórico de índices\n",
    "\n",
    "data15 = pd.read_csv('./data limpio/data15.csv')\n",
    "data16 = pd.read_csv('./data limpio/data16.csv')\n",
    "data17 = pd.read_csv('./data limpio/data_17.csv')\n",
    "data18 = pd.read_csv('./data limpio/data18.csv')\n",
    "data19 = pd.read_csv('./data limpio/data19.csv')\n",
    "data20 = pd.read_csv('./data limpio/data20.csv')\n",
    "data21 = pd.read_csv('./data limpio/data21.csv')\n",
    "data22 = pd.read_csv('./data limpio/data22.csv')"
   ]
  },
  {
   "cell_type": "code",
   "execution_count": 222,
   "metadata": {},
   "outputs": [
    {
     "name": "stdout",
     "output_type": "stream",
     "text": [
      "Media Ladder Score: 5.375734177215189\n",
      "Media Logged GDP per capita: 0.8461372151898735\n",
      "Media Social Support: 0.9910459493670887\n",
      "Media Healthy Life Expectancy: 0.6302593670886076\n",
      "Media Freedom to Make Life Choices: 0.42861493670886075\n",
      "Media Generosity: 0.2372955063291139\n",
      "Media Perceptions of Corruption: 0.14342183544303796\n"
     ]
    }
   ],
   "source": [
    "# Calculamos las medias del año 2015\n",
    "media_ladder_score15 = data15['Happiness Score'].mean()\n",
    "media_logged_gdp_per_capita15 = data15['Economy (GDP per Capita)'].mean()\n",
    "media_social_support15 = data15['Family'].mean()\n",
    "media_healthy_life_expectancy15 = data15['Health (Life Expectancy)'].mean()\n",
    "media_freedom15 = data15['Freedom'].mean()\n",
    "media_generosity15 = data15['Generosity'].mean()\n",
    "media_corruption15 = data15['Trust (Government Corruption)'].mean()\n",
    "\n",
    "print(\"Media Ladder Score:\", media_ladder_score15)\n",
    "print(\"Media Logged GDP per capita:\", media_logged_gdp_per_capita15)\n",
    "print(\"Media Social Support:\", media_social_support15)\n",
    "print(\"Media Healthy Life Expectancy:\", media_healthy_life_expectancy15)\n",
    "print(\"Media Freedom to Make Life Choices:\", media_freedom15)\n",
    "print(\"Media Generosity:\", media_generosity15)\n",
    "print(\"Media Perceptions of Corruption:\", media_corruption15)"
   ]
  },
  {
   "cell_type": "code",
   "execution_count": 206,
   "metadata": {},
   "outputs": [
    {
     "name": "stdout",
     "output_type": "stream",
     "text": [
      "Media Ladder Score: 5.382184713375795\n",
      "Media Logged GDP per capita: 0.9538798089171975\n",
      "Media Social Support: 0.9910459493670887\n",
      "Media Healthy Life Expectancy: 0.5576189808917197\n",
      "Media Freedom to Make Life Choices: 0.3709938853503185\n",
      "Media Generosity: 0.24263490445859873\n",
      "Media Perceptions of Corruption: 0.13762375796178342\n"
     ]
    }
   ],
   "source": [
    "# Calculamos las medias del año 2016\n",
    "media_ladder_score16 = data16['Happiness Score'].mean()\n",
    "media_logged_gdp_per_capita16 = data16['Economy (GDP per Capita)'].mean()\n",
    "media_social_support16 = data16['Family'].mean()\n",
    "media_healthy_life_expectancy16 = data16['Health (Life Expectancy)'].mean()\n",
    "media_freedom16 = data16['Freedom'].mean()\n",
    "media_generosity16 = data16['Generosity'].mean()\n",
    "media_corruption16 = data16['Trust (Government Corruption)'].mean()\n",
    "\n",
    "print(\"Media Ladder Score:\", media_ladder_score16)\n",
    "print(\"Media Logged GDP per capita:\", media_logged_gdp_per_capita16)\n",
    "print(\"Media Social Support:\", media_social_support15)\n",
    "print(\"Media Healthy Life Expectancy:\", media_healthy_life_expectancy16)\n",
    "print(\"Media Freedom to Make Life Choices:\", media_freedom16)\n",
    "print(\"Media Generosity:\", media_generosity16)\n",
    "print(\"Media Perceptions of Corruption:\", media_corruption16)"
   ]
  },
  {
   "cell_type": "code",
   "execution_count": 223,
   "metadata": {},
   "outputs": [
    {
     "name": "stdout",
     "output_type": "stream",
     "text": [
      "Media Ladder Score: 5.354019355773926\n",
      "Media Logged GDP per capita: 0.9847182019463474\n",
      "Media Social Support: 1.188897750454564\n",
      "Media Healthy Life Expectancy: 0.5513407826123219\n",
      "Media Freedom to Make Life Choices: 0.4087859728583885\n",
      "Media Generosity: 0.24688347161657387\n",
      "Media Perceptions of Corruption: 0.12312022065142951\n"
     ]
    }
   ],
   "source": [
    "# Calculamos las medias del año 2017\n",
    "media_ladder_score17 = data17['Happiness.Score'].mean()\n",
    "media_logged_gdp_per_capita17 = data17['Economy..GDP.per.Capita.'].mean()\n",
    "media_social_support17 = data17['Family'].mean()\n",
    "media_healthy_life_expectancy17 = data17['Health..Life.Expectancy.'].mean()\n",
    "media_freedom17 = data17['Freedom'].mean()\n",
    "media_generosity17 = data17['Generosity'].mean()\n",
    "media_corruption17 = data17['Trust..Government.Corruption.'].mean()\n",
    "\n",
    "print(\"Media Ladder Score:\", media_ladder_score17)\n",
    "print(\"Media Logged GDP per capita:\", media_logged_gdp_per_capita17)\n",
    "print(\"Media Social Support:\", media_social_support17)\n",
    "print(\"Media Healthy Life Expectancy:\", media_healthy_life_expectancy17)\n",
    "print(\"Media Freedom to Make Life Choices:\", media_freedom17)\n",
    "print(\"Media Generosity:\", media_generosity17)\n",
    "print(\"Media Perceptions of Corruption:\", media_corruption17)"
   ]
  },
  {
   "cell_type": "code",
   "execution_count": 224,
   "metadata": {},
   "outputs": [
    {
     "name": "stdout",
     "output_type": "stream",
     "text": [
      "Media Ladder Score: 5.375916666666667\n",
      "Media Logged GDP per capita: 0.8914487179487179\n",
      "Media Social Support: 1.2132371794871795\n",
      "Media Healthy Life Expectancy: 0.5973461538461539\n",
      "Media Freedom to Make Life Choices: 0.4545064102564102\n",
      "Media Generosity: 0.18100641025641023\n",
      "Media Perceptions of Corruption: 0.112\n"
     ]
    }
   ],
   "source": [
    "# Calculamos las medias del año 2018\n",
    "media_ladder_score18 = data18['Score'].mean()\n",
    "media_logged_gdp_per_capita18 = data18['GDP per capita'].mean()\n",
    "media_social_support18 = data18['Social support'].mean()\n",
    "media_healthy_life_expectancy18 = data18['Healthy life expectancy'].mean()\n",
    "media_freedom18 = data18['Freedom to make life choices'].mean()\n",
    "media_generosity18 = data18['Generosity'].mean()\n",
    "media_corruption18 = data18['Perceptions of corruption'].mean()\n",
    "\n",
    "print(\"Media Ladder Score:\", media_ladder_score18)\n",
    "print(\"Media Logged GDP per capita:\", media_logged_gdp_per_capita18)\n",
    "print(\"Media Social Support:\", media_social_support18)\n",
    "print(\"Media Healthy Life Expectancy:\", media_healthy_life_expectancy18)\n",
    "print(\"Media Freedom to Make Life Choices:\", media_freedom18)\n",
    "print(\"Media Generosity:\", media_generosity18)\n",
    "print(\"Media Perceptions of Corruption:\", media_corruption18)"
   ]
  },
  {
   "cell_type": "code",
   "execution_count": 225,
   "metadata": {},
   "outputs": [
    {
     "name": "stdout",
     "output_type": "stream",
     "text": [
      "Media Ladder Score: 5.407096153846155\n",
      "Media Logged GDP per capita: 0.905147435897436\n",
      "Media Social Support: 1.2088141025641026\n",
      "Media Healthy Life Expectancy: 0.7252435897435898\n",
      "Media Freedom to Make Life Choices: 0.39257051282051286\n",
      "Media Generosity: 0.18484615384615383\n",
      "Media Perceptions of Corruption: 0.11060256410256411\n"
     ]
    }
   ],
   "source": [
    "# Calculamos las medias del año 2019\n",
    "media_ladder_score19 = data19['Score'].mean()\n",
    "media_logged_gdp_per_capita19 = data19['GDP per capita'].mean()\n",
    "media_social_support19 = data19['Social support'].mean()\n",
    "media_healthy_life_expectancy19 = data19['Healthy life expectancy'].mean()\n",
    "media_freedom19 = data19['Freedom to make life choices'].mean()\n",
    "media_generosity19 = data19['Generosity'].mean()\n",
    "media_corruption19 = data19['Perceptions of corruption'].mean()\n",
    "\n",
    "print(\"Media Ladder Score:\", media_ladder_score19)\n",
    "print(\"Media Logged GDP per capita:\", media_logged_gdp_per_capita19)\n",
    "print(\"Media Social Support:\", media_social_support19)\n",
    "print(\"Media Healthy Life Expectancy:\", media_healthy_life_expectancy19)\n",
    "print(\"Media Freedom to Make Life Choices:\", media_freedom19)\n",
    "print(\"Media Generosity:\", media_generosity19)\n",
    "print(\"Media Perceptions of Corruption:\", media_corruption19)"
   ]
  },
  {
   "cell_type": "code",
   "execution_count": 226,
   "metadata": {},
   "outputs": [
    {
     "name": "stdout",
     "output_type": "stream",
     "text": [
      "<class 'pandas.core.frame.DataFrame'>\n",
      "RangeIndex: 153 entries, 0 to 152\n",
      "Data columns (total 9 columns):\n",
      " #   Column                        Non-Null Count  Dtype  \n",
      "---  ------                        --------------  -----  \n",
      " 0   Country name                  153 non-null    object \n",
      " 1   Happiness Rank                153 non-null    int64  \n",
      " 2   Ladder score                  153 non-null    float64\n",
      " 3   Logged GDP per capita         153 non-null    float64\n",
      " 4   Social support                153 non-null    float64\n",
      " 5   Healthy life expectancy       153 non-null    float64\n",
      " 6   Freedom to make life choices  153 non-null    float64\n",
      " 7   Generosity                    153 non-null    float64\n",
      " 8   Perceptions of corruption     153 non-null    float64\n",
      "dtypes: float64(7), int64(1), object(1)\n",
      "memory usage: 10.9+ KB\n"
     ]
    }
   ],
   "source": [
    "data20.info()"
   ]
  },
  {
   "cell_type": "code",
   "execution_count": 228,
   "metadata": {},
   "outputs": [
    {
     "name": "stdout",
     "output_type": "stream",
     "text": [
      "Media Ladder Score: 5.407096153846155\n",
      "Media Logged GDP per capita: 0.905147435897436\n",
      "Media Social Support: 1.2088141025641026\n",
      "Media Healthy Life Expectancy: 0.7252435897435898\n",
      "Media Freedom to Make Life Choices: 0.39257051282051286\n",
      "Media Generosity: 0.18484615384615383\n",
      "Media Perceptions of Corruption: 0.11060256410256411\n"
     ]
    }
   ],
   "source": [
    "# Calculamos las medias del año 2020\n",
    "media_ladder_score20 = data20['Ladder score'].mean()\n",
    "media_logged_gdp_per_capita20 = data20['Logged GDP per capita'].mean()\n",
    "media_social_support20 = data20['Social support'].mean()\n",
    "media_healthy_life_expectancy20 = data20['Healthy life expectancy'].mean()\n",
    "media_freedom20 = data20['Freedom to make life choices'].mean()\n",
    "media_generosity20 = data20['Generosity'].mean()\n",
    "media_corruption20 = data20['Perceptions of corruption'].mean()\n",
    "\n",
    "print(\"Media Ladder Score:\", media_ladder_score19)\n",
    "print(\"Media Logged GDP per capita:\", media_logged_gdp_per_capita19)\n",
    "print(\"Media Social Support:\", media_social_support19)\n",
    "print(\"Media Healthy Life Expectancy:\", media_healthy_life_expectancy19)\n",
    "print(\"Media Freedom to Make Life Choices:\", media_freedom19)\n",
    "print(\"Media Generosity:\", media_generosity19)\n",
    "print(\"Media Perceptions of Corruption:\", media_corruption19)"
   ]
  },
  {
   "cell_type": "code",
   "execution_count": 229,
   "metadata": {},
   "outputs": [
    {
     "name": "stdout",
     "output_type": "stream",
     "text": [
      "<class 'pandas.core.frame.DataFrame'>\n",
      "RangeIndex: 149 entries, 0 to 148\n",
      "Data columns (total 9 columns):\n",
      " #   Column                        Non-Null Count  Dtype  \n",
      "---  ------                        --------------  -----  \n",
      " 0   Country name                  149 non-null    object \n",
      " 1   Happiness Rank                149 non-null    int64  \n",
      " 2   Ladder score                  149 non-null    float64\n",
      " 3   Logged GDP per capita         149 non-null    float64\n",
      " 4   Social support                149 non-null    float64\n",
      " 5   Healthy life expectancy       149 non-null    float64\n",
      " 6   Freedom to make life choices  149 non-null    float64\n",
      " 7   Generosity                    149 non-null    float64\n",
      " 8   Perceptions of corruption     149 non-null    float64\n",
      "dtypes: float64(7), int64(1), object(1)\n",
      "memory usage: 10.6+ KB\n"
     ]
    }
   ],
   "source": [
    "data21.info()"
   ]
  },
  {
   "cell_type": "code",
   "execution_count": 230,
   "metadata": {},
   "outputs": [
    {
     "name": "stdout",
     "output_type": "stream",
     "text": [
      "Media Ladder Score: 5.532838926174497\n",
      "Media Logged GDP per capita: 9.432208053691276\n",
      "Media Social Support: 0.8147449664429529\n",
      "Media Healthy Life Expectancy: 64.99279865771811\n",
      "Media Freedom to Make Life Choices: 0.7915973154362417\n",
      "Media Generosity: -0.015134228187919463\n",
      "Media Perceptions of Corruption: 0.7274496644295303\n"
     ]
    }
   ],
   "source": [
    "# Calculamos las medias del año 2021\n",
    "media_ladder_score21 = data21['Ladder score'].mean()\n",
    "media_logged_gdp_per_capita21 = data21['Logged GDP per capita'].mean()\n",
    "media_social_support21 = data21['Social support'].mean()\n",
    "media_healthy_life_expectancy21 = data21['Healthy life expectancy'].mean()\n",
    "media_freedom21 = data21['Freedom to make life choices'].mean()\n",
    "media_generosity21 = data21['Generosity'].mean()\n",
    "media_corruption21 = data21['Perceptions of corruption'].mean()\n",
    "\n",
    "print(\"Media Ladder Score:\", media_ladder_score21)\n",
    "print(\"Media Logged GDP per capita:\", media_logged_gdp_per_capita21)\n",
    "print(\"Media Social Support:\", media_social_support21)\n",
    "print(\"Media Healthy Life Expectancy:\", media_healthy_life_expectancy21)\n",
    "print(\"Media Freedom to Make Life Choices:\", media_freedom21)\n",
    "print(\"Media Generosity:\", media_generosity21)\n",
    "print(\"Media Perceptions of Corruption:\", media_corruption21)"
   ]
  },
  {
   "cell_type": "code",
   "execution_count": 232,
   "metadata": {},
   "outputs": [
    {
     "name": "stdout",
     "output_type": "stream",
     "text": [
      "<class 'pandas.core.frame.DataFrame'>\n",
      "RangeIndex: 146 entries, 0 to 145\n",
      "Data columns (total 9 columns):\n",
      " #   Column                                      Non-Null Count  Dtype  \n",
      "---  ------                                      --------------  -----  \n",
      " 0   Country                                     146 non-null    object \n",
      " 1   RANK                                        146 non-null    int64  \n",
      " 2   Happiness score                             146 non-null    float64\n",
      " 3   Explained by: GDP per capita                146 non-null    float64\n",
      " 4   Explained by: Social support                146 non-null    float64\n",
      " 5   Explained by: Healthy life expectancy       146 non-null    float64\n",
      " 6   Explained by: Freedom to make life choices  146 non-null    float64\n",
      " 7   Explained by: Perceptions of corruption     146 non-null    float64\n",
      " 8   Explained by: Generosity                    146 non-null    float64\n",
      "dtypes: float64(7), int64(1), object(1)\n",
      "memory usage: 10.4+ KB\n"
     ]
    }
   ],
   "source": [
    "data22.info()"
   ]
  },
  {
   "cell_type": "code",
   "execution_count": 233,
   "metadata": {},
   "outputs": [
    {
     "name": "stdout",
     "output_type": "stream",
     "text": [
      "Media Ladder Score: 5.553575342465753\n",
      "Media Logged GDP per capita: 1.410445205479452\n",
      "Media Social Support: 0.9058630136986301\n",
      "Media Healthy Life Expectancy: 0.5861712328767124\n",
      "Media Freedom to Make Life Choices: 0.5172260273972603\n",
      "Media Generosity: 0.14737671232876715\n",
      "Media Perceptions of Corruption: 0.1547808219178082\n"
     ]
    }
   ],
   "source": [
    "# Calculamos las medias del año 2022\n",
    "media_ladder_score22 = data22['Happiness score'].mean()\n",
    "media_logged_gdp_per_capita22 = data22['Explained by: GDP per capita'].mean()\n",
    "media_social_support22 = data22['Explained by: Social support'].mean()\n",
    "media_healthy_life_expectancy22 = data22['Explained by: Healthy life expectancy'].mean()\n",
    "media_freedom22 = data22['Explained by: Freedom to make life choices'].mean()\n",
    "media_generosity22 = data22['Explained by: Generosity'].mean()\n",
    "media_corruption22 = data22['Explained by: Perceptions of corruption'].mean()\n",
    "\n",
    "print(\"Media Ladder Score:\", media_ladder_score22)\n",
    "print(\"Media Logged GDP per capita:\", media_logged_gdp_per_capita22)\n",
    "print(\"Media Social Support:\", media_social_support22)\n",
    "print(\"Media Healthy Life Expectancy:\", media_healthy_life_expectancy22)\n",
    "print(\"Media Freedom to Make Life Choices:\", media_freedom22)\n",
    "print(\"Media Generosity:\", media_generosity22)\n",
    "print(\"Media Perceptions of Corruption:\", media_corruption22)"
   ]
  },
  {
   "cell_type": "code",
   "execution_count": 234,
   "metadata": {},
   "outputs": [
    {
     "data": {
      "image/png": "[encoded data removed]",
      "text/plain": [
       "<Figure size 640x480 with 1 Axes>"
      ]
     },
     "metadata": {},
     "output_type": "display_data"
    }
   ],
   "source": [
    "# Ahora vamos a plotear la medias medias de felicidad mundial por año\n",
    "\n",
    "# Crear listas con las medias de las columnas \"Score\"\n",
    "medias = [media_ladder_score16, media_ladder_score17, media_ladder_score18, media_ladder_score19, media_ladder_score20, media_ladder_score21, media_ladder_score22, media_ladder_score23]\n",
    "años = ['2016', '2017', '2018', '2019', '2020', '2021', '2022', '2023']\n",
    "\n",
    "# Crear el gráfico de barras\n",
    "plt.bar(años, medias)\n",
    "\n",
    "# Configurar los ejes y el título del gráfico\n",
    "plt.xlabel('Años')\n",
    "plt.ylabel('Media del Ladder Score')\n",
    "plt.title('Evolución de la media del Ladder Score por año')\n",
    "\n",
    "# Mostrar el gráfico\n",
    "plt.show()"
   ]
  },
  {
   "cell_type": "code",
   "execution_count": 236,
   "metadata": {},
   "outputs": [
    {
     "data": {
      "image/png": "[encoded data removed]",
      "text/plain": [
       "<Figure size 1000x800 with 2 Axes>"
      ]
     },
     "metadata": {},
     "output_type": "display_data"
    }
   ],
   "source": [
    "import seaborn as sns\n",
    "import matplotlib.pyplot as plt\n",
    "\n",
    "# Seleccionar solo las columnas numéricas del DataFrame\n",
    "numeric_columns = df.select_dtypes(include=['float64', 'int64'])\n",
    "\n",
    "# Calcular la matriz de correlaciones\n",
    "correlation_matrix = numeric_columns.corr()\n",
    "\n",
    "# Crear el heatmap\n",
    "plt.figure(figsize=(10, 8))\n",
    "sns.heatmap(correlation_matrix, annot=True, cmap='coolwarm')\n",
    "\n",
    "# Configurar los títulos de los ejes y el título del gráfico\n",
    "plt.xlabel('Columnas')\n",
    "plt.ylabel('Columnas')\n",
    "plt.title('Heatmap de correlaciones')\n",
    "\n",
    "# Mostrar el heatmap\n",
    "plt.show()"
   ]
  },
  {
   "cell_type": "code",
   "execution_count": null,
   "metadata": {},
   "outputs": [],
   "source": []
  },
  {
   "cell_type": "code",
   "execution_count": null,
   "metadata": {},
   "outputs": [],
   "source": []
  },
  {
   "cell_type": "code",
   "execution_count": null,
   "metadata": {},
   "outputs": [],
   "source": []
  },
  {
   "cell_type": "code",
   "execution_count": null,
   "metadata": {},
   "outputs": [],
   "source": []
  },
  {
   "cell_type": "code",
   "execution_count": null,
   "metadata": {},
   "outputs": [],
   "source": []
  },
  {
   "cell_type": "code",
   "execution_count": 212,
   "metadata": {},
   "outputs": [],
   "source": [
    "autoritarios = ['Afganistán', 'Argelia', 'Arabia Saudita', 'Angola', 'Bielorrusia', 'Burundi', 'Camboya', 'Camerún', 'Chad', 'China', 'Congo', 'Corea del Norte', 'Cuba', 'Egipto', 'Gabón', 'Guinea', 'Guinea-Bisseau', 'Guinea Ecuatorial', 'Irak', 'Irán', 'Jordania', 'Kazajistán', 'Kuwait', 'Laos', 'Libia', 'Mauritania', 'Mali', 'Mozambique', 'Myanmar', 'Nicaragua', 'Níger', 'Omán', 'Tayikistán', 'Togo', 'Turkmenistán', 'República Centroafricana', 'Ruanda', 'Rusia', 'Siria', 'Uzbekistán', 'Yemen', 'Venezuela', 'Vietnam', 'Zimbabue']"
   ]
  },
  {
   "cell_type": "code",
   "execution_count": 213,
   "metadata": {},
   "outputs": [
    {
     "name": "stdout",
     "output_type": "stream",
     "text": [
      "Media de Ladder_score para los países autoritarios: 5.001333333333334\n"
     ]
    }
   ],
   "source": [
    "import pandas as pd\n",
    "\n",
    "# Filtrar el DataFrame original por los países en la lista \"autoritarios\"\n",
    "df_autoritarios = df[df['Country'].isin(autoritarios)]\n",
    "\n",
    "# Calcular la media de la columna \"Ladder_score\" en el DataFrame filtrado\n",
    "media_ladder_score_autoritarios = df_autoritarios['Ladder_score'].mean()\n",
    "\n",
    "print(\"Media de Ladder_score para los países autoritarios:\", media_ladder_score_autoritarios)"
   ]
  },
  {
   "cell_type": "code",
   "execution_count": 214,
   "metadata": {},
   "outputs": [
    {
     "name": "stdout",
     "output_type": "stream",
     "text": [
      "Media de Ladder_score para los países no autoritarios: 5.591488000000001\n"
     ]
    }
   ],
   "source": [
    "import pandas as pd\n",
    "\n",
    "# Filtrar el DataFrame original excluyendo los países en la lista \"autoritarios\"\n",
    "df_no_autoritarios = df[~df['Country'].isin(autoritarios)]\n",
    "\n",
    "# Calcular la media de la columna \"Ladder_score\" en el DataFrame filtrado\n",
    "media_ladder_score_no_autoritarios = df_no_autoritarios['Ladder_score'].mean()\n",
    "\n",
    "print(\"Media de Ladder_score para los países no autoritarios:\", media_ladder_score_no_autoritarios)"
   ]
  },
  {
   "cell_type": "code",
   "execution_count": null,
   "metadata": {},
   "outputs": [],
   "source": []
  }
 ],
 "metadata": {
  "kernelspec": {
   "display_name": "ironhack",
   "language": "python",
   "name": "python3"
  },
  "language_info": {
   "codemirror_mode": {
    "name": "ipython",
    "version": 3
   },
   "file_extension": ".py",
   "mimetype": "text/x-python",
   "name": "python",
   "nbconvert_exporter": "python",
   "pygments_lexer": "ipython3",
   "version": "3.9.16"
  },
  "orig_nbformat": 4
 },
 "nbformat": 4,
 "nbformat_minor": 2
}
