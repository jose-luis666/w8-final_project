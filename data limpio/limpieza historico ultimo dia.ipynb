{
 "cells": [
  {
   "cell_type": "code",
   "execution_count": 2,
   "metadata": {},
   "outputs": [],
   "source": [
    "import pandas as pd"
   ]
  },
  {
   "cell_type": "code",
   "execution_count": 3,
   "metadata": {},
   "outputs": [],
   "source": [
    "df_15 = pd.read_csv(\"data15_final.csv\")"
   ]
  },
  {
   "cell_type": "code",
   "execution_count": 4,
   "metadata": {},
   "outputs": [
    {
     "name": "stdout",
     "output_type": "stream",
     "text": [
      "<class 'pandas.core.frame.DataFrame'>\n",
      "RangeIndex: 158 entries, 0 to 157\n",
      "Data columns (total 9 columns):\n",
      " #   Column                        Non-Null Count  Dtype  \n",
      "---  ------                        --------------  -----  \n",
      " 0   Country                       158 non-null    object \n",
      " 1   Rank                          158 non-null    int64  \n",
      " 2   Ladder_score                  158 non-null    float64\n",
      " 3   Logged_gdp_per_capita         158 non-null    float64\n",
      " 4   Social_support                158 non-null    float64\n",
      " 5   Healthy_life_expectancy       158 non-null    float64\n",
      " 6   Freedom_to_make_life_choices  158 non-null    float64\n",
      " 7   Generosity                    158 non-null    float64\n",
      " 8   Perceptions_of_corruption     158 non-null    float64\n",
      "dtypes: float64(7), int64(1), object(1)\n",
      "memory usage: 11.2+ KB\n"
     ]
    }
   ],
   "source": [
    "df_15.info()"
   ]
  },
  {
   "cell_type": "code",
   "execution_count": 5,
   "metadata": {},
   "outputs": [],
   "source": [
    "df16 = pd.read_csv(\"data16_final.csv\")"
   ]
  },
  {
   "cell_type": "code",
   "execution_count": 6,
   "metadata": {},
   "outputs": [
    {
     "name": "stdout",
     "output_type": "stream",
     "text": [
      "<class 'pandas.core.frame.DataFrame'>\n",
      "RangeIndex: 157 entries, 0 to 156\n",
      "Data columns (total 9 columns):\n",
      " #   Column                        Non-Null Count  Dtype  \n",
      "---  ------                        --------------  -----  \n",
      " 0   Country                       157 non-null    object \n",
      " 1   Rank                          157 non-null    int64  \n",
      " 2   Ladder_score                  157 non-null    float64\n",
      " 3   Logged_gdp_per_capita         157 non-null    float64\n",
      " 4   Social_support                157 non-null    float64\n",
      " 5   Healthy_life_expectancy       157 non-null    float64\n",
      " 6   Freedom_to_make_life_choices  157 non-null    float64\n",
      " 7   Generosity                    157 non-null    float64\n",
      " 8   Perceptions_of_corruption     157 non-null    float64\n",
      "dtypes: float64(7), int64(1), object(1)\n",
      "memory usage: 11.2+ KB\n"
     ]
    }
   ],
   "source": [
    "df16.info()"
   ]
  },
  {
   "cell_type": "code",
   "execution_count": 7,
   "metadata": {},
   "outputs": [],
   "source": [
    "df17 = pd.read_csv(\"data17_final.csv\")"
   ]
  },
  {
   "cell_type": "code",
   "execution_count": 8,
   "metadata": {},
   "outputs": [
    {
     "name": "stdout",
     "output_type": "stream",
     "text": [
      "<class 'pandas.core.frame.DataFrame'>\n",
      "RangeIndex: 155 entries, 0 to 154\n",
      "Data columns (total 9 columns):\n",
      " #   Column                        Non-Null Count  Dtype  \n",
      "---  ------                        --------------  -----  \n",
      " 0   Country                       155 non-null    object \n",
      " 1   Rank                          155 non-null    int64  \n",
      " 2   Ladder_score                  155 non-null    float64\n",
      " 3   Logged_gdp_per_capita         155 non-null    float64\n",
      " 4   Social_support                155 non-null    float64\n",
      " 5   Healthy_life_expectancy       155 non-null    float64\n",
      " 6   Freedom_to_make_life_choices  155 non-null    float64\n",
      " 7   Generosity                    155 non-null    float64\n",
      " 8   Perceptions_of_corruption     155 non-null    float64\n",
      "dtypes: float64(7), int64(1), object(1)\n",
      "memory usage: 11.0+ KB\n"
     ]
    }
   ],
   "source": [
    "df17.info()"
   ]
  },
  {
   "cell_type": "code",
   "execution_count": 10,
   "metadata": {},
   "outputs": [
    {
     "name": "stdout",
     "output_type": "stream",
     "text": [
      "<class 'pandas.core.frame.DataFrame'>\n",
      "RangeIndex: 156 entries, 0 to 155\n",
      "Data columns (total 9 columns):\n",
      " #   Column                        Non-Null Count  Dtype  \n",
      "---  ------                        --------------  -----  \n",
      " 0   Country                       156 non-null    object \n",
      " 1   Rank                          156 non-null    int64  \n",
      " 2   Ladder_score                  156 non-null    float64\n",
      " 3   Logged_gdp_per_capita         156 non-null    float64\n",
      " 4   Social_support                156 non-null    float64\n",
      " 5   Healthy_life_expectancy       156 non-null    float64\n",
      " 6   Freedom_to_make_life_choices  156 non-null    float64\n",
      " 7   Generosity                    155 non-null    float64\n",
      " 8   Perceptions_of_corruption     156 non-null    float64\n",
      "dtypes: float64(7), int64(1), object(1)\n",
      "memory usage: 11.1+ KB\n"
     ]
    }
   ],
   "source": [
    "df18 = pd.read_csv(\"data18_final.csv\")\n",
    "df18.info()"
   ]
  },
  {
   "cell_type": "code",
   "execution_count": 11,
   "metadata": {},
   "outputs": [
    {
     "name": "stdout",
     "output_type": "stream",
     "text": [
      "<class 'pandas.core.frame.DataFrame'>\n",
      "RangeIndex: 156 entries, 0 to 155\n",
      "Data columns (total 9 columns):\n",
      " #   Column                        Non-Null Count  Dtype  \n",
      "---  ------                        --------------  -----  \n",
      " 0   Country                       156 non-null    object \n",
      " 1   Rank                          156 non-null    int64  \n",
      " 2   Ladder_score                  156 non-null    float64\n",
      " 3   Logged_gdp_per_capita         156 non-null    float64\n",
      " 4   Social_support                156 non-null    float64\n",
      " 5   Healthy_life_expectancy       156 non-null    float64\n",
      " 6   Freedom_to_make_life_choices  156 non-null    float64\n",
      " 7   Generosity                    156 non-null    float64\n",
      " 8   Perceptions_of_corruption     156 non-null    float64\n",
      "dtypes: float64(7), int64(1), object(1)\n",
      "memory usage: 11.1+ KB\n"
     ]
    }
   ],
   "source": [
    "df19 = pd.read_csv(\"data19_final.csv\")\n",
    "df19.info()"
   ]
  },
  {
   "cell_type": "code",
   "execution_count": 12,
   "metadata": {},
   "outputs": [
    {
     "name": "stdout",
     "output_type": "stream",
     "text": [
      "<class 'pandas.core.frame.DataFrame'>\n",
      "RangeIndex: 153 entries, 0 to 152\n",
      "Data columns (total 9 columns):\n",
      " #   Column                        Non-Null Count  Dtype  \n",
      "---  ------                        --------------  -----  \n",
      " 0   Country                       153 non-null    object \n",
      " 1   Rank                          153 non-null    int64  \n",
      " 2   Ladder_score                  153 non-null    float64\n",
      " 3   Logged_gdp_per_capita         153 non-null    float64\n",
      " 4   Social_support                153 non-null    float64\n",
      " 5   Healthy_life_expectancy       153 non-null    float64\n",
      " 6   Freedom_to_make_life_choices  153 non-null    float64\n",
      " 7   Generosity                    153 non-null    float64\n",
      " 8   Perceptions_of_corruption     153 non-null    float64\n",
      "dtypes: float64(7), int64(1), object(1)\n",
      "memory usage: 10.9+ KB\n"
     ]
    }
   ],
   "source": [
    "df20 = pd.read_csv(\"data20_final.csv\")\n",
    "df20.info()"
   ]
  },
  {
   "cell_type": "code",
   "execution_count": 13,
   "metadata": {},
   "outputs": [
    {
     "name": "stdout",
     "output_type": "stream",
     "text": [
      "<class 'pandas.core.frame.DataFrame'>\n",
      "RangeIndex: 149 entries, 0 to 148\n",
      "Data columns (total 9 columns):\n",
      " #   Column                        Non-Null Count  Dtype  \n",
      "---  ------                        --------------  -----  \n",
      " 0   Country                       149 non-null    object \n",
      " 1   Rank                          149 non-null    int64  \n",
      " 2   Ladder_score                  149 non-null    float64\n",
      " 3   Logged_gdp_per_capita         149 non-null    float64\n",
      " 4   Social_support                149 non-null    float64\n",
      " 5   Healthy_life_expectancy       149 non-null    float64\n",
      " 6   Freedom_to_make_life_choices  149 non-null    float64\n",
      " 7   Generosity                    149 non-null    float64\n",
      " 8   Perceptions_of_corruption     149 non-null    float64\n",
      "dtypes: float64(7), int64(1), object(1)\n",
      "memory usage: 10.6+ KB\n"
     ]
    }
   ],
   "source": [
    "df21 = pd.read_csv(\"data21_final.csv\")\n",
    "df21.info()"
   ]
  },
  {
   "cell_type": "code",
   "execution_count": 14,
   "metadata": {},
   "outputs": [
    {
     "name": "stdout",
     "output_type": "stream",
     "text": [
      "<class 'pandas.core.frame.DataFrame'>\n",
      "RangeIndex: 146 entries, 0 to 145\n",
      "Data columns (total 9 columns):\n",
      " #   Column                        Non-Null Count  Dtype  \n",
      "---  ------                        --------------  -----  \n",
      " 0   Country                       146 non-null    object \n",
      " 1   Rank                          146 non-null    int64  \n",
      " 2   Ladder_score                  146 non-null    float64\n",
      " 3   Logged_gdp_per_capita         146 non-null    float64\n",
      " 4   Social_support                146 non-null    float64\n",
      " 5   Healthy_life_expectancy       146 non-null    float64\n",
      " 6   Freedom_to_make_life_choices  146 non-null    float64\n",
      " 7   Generosity                    146 non-null    float64\n",
      " 8   Perceptions_of_corruption     146 non-null    float64\n",
      "dtypes: float64(7), int64(1), object(1)\n",
      "memory usage: 10.4+ KB\n"
     ]
    }
   ],
   "source": [
    "df22 = pd.read_csv(\"data22_final.csv\")\n",
    "df22.info()"
   ]
  },
  {
   "cell_type": "code",
   "execution_count": 15,
   "metadata": {},
   "outputs": [
    {
     "name": "stdout",
     "output_type": "stream",
     "text": [
      "<class 'pandas.core.frame.DataFrame'>\n",
      "RangeIndex: 137 entries, 0 to 136\n",
      "Data columns (total 10 columns):\n",
      " #   Column                        Non-Null Count  Dtype  \n",
      "---  ------                        --------------  -----  \n",
      " 0   Country                       137 non-null    object \n",
      " 1   Continent                     137 non-null    object \n",
      " 2   Rank                          137 non-null    int64  \n",
      " 3   Ladder_score                  137 non-null    float64\n",
      " 4   Logged_gdp_per_capita         137 non-null    float64\n",
      " 5   Social_support                137 non-null    float64\n",
      " 6   Healthy_life_expectancy       137 non-null    float64\n",
      " 7   Freedom_to_make_life_choices  137 non-null    float64\n",
      " 8   Generosity                    137 non-null    float64\n",
      " 9   Perceptions_of_corruption     137 non-null    float64\n",
      "dtypes: float64(7), int64(1), object(2)\n",
      "memory usage: 10.8+ KB\n"
     ]
    }
   ],
   "source": [
    "df23 = pd.read_csv(\"data23_final.csv\")\n",
    "df23.info()"
   ]
  },
  {
   "cell_type": "code",
   "execution_count": 16,
   "metadata": {},
   "outputs": [
    {
     "data": {
      "text/plain": [
       "['Finland',\n",
       " 'Denmark',\n",
       " 'Iceland',\n",
       " 'Israel',\n",
       " 'Netherlands',\n",
       " 'Sweden',\n",
       " 'Norway',\n",
       " 'Switzerland',\n",
       " 'Luxembourg',\n",
       " 'New Zealand',\n",
       " 'Austria',\n",
       " 'Australia',\n",
       " 'Canada',\n",
       " 'Ireland',\n",
       " 'United States',\n",
       " 'Germany',\n",
       " 'Belgium',\n",
       " 'Czechia',\n",
       " 'United Kingdom',\n",
       " 'Lithuania',\n",
       " 'France',\n",
       " 'Slovenia',\n",
       " 'Costa Rica',\n",
       " 'Romania',\n",
       " 'Singapore',\n",
       " 'United Arab Emirates',\n",
       " 'Taiwan',\n",
       " 'Uruguay',\n",
       " 'Slovakia',\n",
       " 'Saudi Arabia',\n",
       " 'Estonia',\n",
       " 'Spain',\n",
       " 'Italy',\n",
       " 'Republic of Republic of Kosovo',\n",
       " 'Chile',\n",
       " 'Mexico',\n",
       " 'Malta',\n",
       " 'Panama',\n",
       " 'Poland',\n",
       " 'Nicaragua',\n",
       " 'Latvia',\n",
       " 'Bahrain',\n",
       " 'Guatemala',\n",
       " 'Kazakhstan',\n",
       " 'Serbia',\n",
       " 'Cyprus',\n",
       " 'Japan',\n",
       " 'Croatia',\n",
       " 'Brazil',\n",
       " 'El Salvador',\n",
       " 'Hungary',\n",
       " 'Argentina',\n",
       " 'Honduras',\n",
       " 'Uzbekistan',\n",
       " 'Malaysia',\n",
       " 'Portugal',\n",
       " 'South Korea',\n",
       " 'Greece',\n",
       " 'Mauritius',\n",
       " 'Thailand',\n",
       " 'Mongolia',\n",
       " 'Kyrgyzstan',\n",
       " 'Moldova',\n",
       " 'China',\n",
       " 'Vietnam',\n",
       " 'Paraguay',\n",
       " 'Montenegro',\n",
       " 'Jamaica',\n",
       " 'Bolivia',\n",
       " 'Russia',\n",
       " 'Bosnia',\n",
       " 'Colombia',\n",
       " 'Dominican Republic',\n",
       " 'Ecuador',\n",
       " 'Peru',\n",
       " 'Philippines',\n",
       " 'Bulgaria',\n",
       " 'Nepal',\n",
       " 'Armenia',\n",
       " 'Tajikistan',\n",
       " 'Algeria',\n",
       " 'Hong Kong',\n",
       " 'Albania',\n",
       " 'Indonesia',\n",
       " 'South Africa',\n",
       " 'Congo',\n",
       " 'North Macedonia',\n",
       " 'Venezuela',\n",
       " 'Laos',\n",
       " 'Georgia',\n",
       " 'Guinea',\n",
       " 'Ukraine',\n",
       " 'Ivory Coast',\n",
       " 'Gabon',\n",
       " 'Nigeria',\n",
       " 'Cameroon',\n",
       " 'Mozambique',\n",
       " 'Iraq',\n",
       " 'Palestine',\n",
       " 'Morocco',\n",
       " 'Iran',\n",
       " 'Senegal',\n",
       " 'Mauritania',\n",
       " 'Burkina Faso',\n",
       " 'Namibia',\n",
       " 'Turkey',\n",
       " 'Ghana',\n",
       " 'Pakistan',\n",
       " 'Niger',\n",
       " 'Tunisia',\n",
       " 'Kenya',\n",
       " 'Sri Lanka',\n",
       " 'Uganda',\n",
       " 'Chad',\n",
       " 'Cambodia',\n",
       " 'Benin',\n",
       " 'Myanmar',\n",
       " 'Bangladesh',\n",
       " 'Gambia',\n",
       " 'Mali',\n",
       " 'Egypt',\n",
       " 'Togo',\n",
       " 'Jordan',\n",
       " 'Ethiopia',\n",
       " 'Liberia',\n",
       " 'India',\n",
       " 'Madagascar',\n",
       " 'Zambia',\n",
       " 'Tanzania',\n",
       " 'Comoros',\n",
       " 'Malawi',\n",
       " 'Botswana',\n",
       " 'Congo',\n",
       " 'Zimbabwe',\n",
       " 'Sierra Leone',\n",
       " 'Lebanon',\n",
       " 'Afghanistan']"
      ]
     },
     "execution_count": 16,
     "metadata": {},
     "output_type": "execute_result"
    }
   ],
   "source": [
    "country_values = df23['Country'].tolist()\n",
    "country_values"
   ]
  },
  {
   "cell_type": "code",
   "execution_count": 20,
   "metadata": {},
   "outputs": [],
   "source": [
    "df_cleaned15 = df_15[df_15['Country'].isin(country_values)]\n"
   ]
  },
  {
   "cell_type": "code",
   "execution_count": 21,
   "metadata": {},
   "outputs": [
    {
     "name": "stdout",
     "output_type": "stream",
     "text": [
      "<class 'pandas.core.frame.DataFrame'>\n",
      "Index: 128 entries, 0 to 157\n",
      "Data columns (total 9 columns):\n",
      " #   Column                        Non-Null Count  Dtype  \n",
      "---  ------                        --------------  -----  \n",
      " 0   Country                       128 non-null    object \n",
      " 1   Rank                          128 non-null    int64  \n",
      " 2   Ladder_score                  128 non-null    float64\n",
      " 3   Logged_gdp_per_capita         128 non-null    float64\n",
      " 4   Social_support                128 non-null    float64\n",
      " 5   Healthy_life_expectancy       128 non-null    float64\n",
      " 6   Freedom_to_make_life_choices  128 non-null    float64\n",
      " 7   Generosity                    128 non-null    float64\n",
      " 8   Perceptions_of_corruption     128 non-null    float64\n",
      "dtypes: float64(7), int64(1), object(1)\n",
      "memory usage: 10.0+ KB\n"
     ]
    }
   ],
   "source": [
    "df_cleaned15.info()"
   ]
  },
  {
   "cell_type": "code",
   "execution_count": 24,
   "metadata": {},
   "outputs": [
    {
     "name": "stdout",
     "output_type": "stream",
     "text": [
      "<class 'pandas.core.frame.DataFrame'>\n",
      "Index: 128 entries, 0 to 154\n",
      "Data columns (total 9 columns):\n",
      " #   Column                        Non-Null Count  Dtype  \n",
      "---  ------                        --------------  -----  \n",
      " 0   Country                       128 non-null    object \n",
      " 1   Rank                          128 non-null    int64  \n",
      " 2   Ladder_score                  128 non-null    float64\n",
      " 3   Logged_gdp_per_capita         128 non-null    float64\n",
      " 4   Social_support                128 non-null    float64\n",
      " 5   Healthy_life_expectancy       128 non-null    float64\n",
      " 6   Freedom_to_make_life_choices  128 non-null    float64\n",
      " 7   Generosity                    128 non-null    float64\n",
      " 8   Perceptions_of_corruption     128 non-null    float64\n",
      "dtypes: float64(7), int64(1), object(1)\n",
      "memory usage: 10.0+ KB\n"
     ]
    }
   ],
   "source": [
    "df_cleaned16 = df16[df16['Country'].isin(country_values)]\n",
    "df_cleaned16.info()\n"
   ]
  },
  {
   "cell_type": "code",
   "execution_count": 25,
   "metadata": {},
   "outputs": [],
   "source": [
    "df_cleaned17 = df17[df17['Country'].isin(country_values)]\n",
    "df_cleaned18 = df18[df18['Country'].isin(country_values)]\n",
    "df_cleaned19 = df19[df19['Country'].isin(country_values)]\n",
    "df_cleaned20 = df20[df20['Country'].isin(country_values)]\n",
    "df_cleaned21 = df21[df21['Country'].isin(country_values)]\n",
    "df_cleaned22 = df22[df22['Country'].isin(country_values)]\n",
    "df_cleaned23 = df23[df23['Country'].isin(country_values)]\n"
   ]
  },
  {
   "cell_type": "code",
   "execution_count": 26,
   "metadata": {},
   "outputs": [
    {
     "name": "stdout",
     "output_type": "stream",
     "text": [
      "<class 'pandas.core.frame.DataFrame'>\n",
      "Index: 125 entries, 0 to 152\n",
      "Data columns (total 9 columns):\n",
      " #   Column                        Non-Null Count  Dtype  \n",
      "---  ------                        --------------  -----  \n",
      " 0   Country                       125 non-null    object \n",
      " 1   Rank                          125 non-null    int64  \n",
      " 2   Ladder_score                  125 non-null    float64\n",
      " 3   Logged_gdp_per_capita         125 non-null    float64\n",
      " 4   Social_support                125 non-null    float64\n",
      " 5   Healthy_life_expectancy       125 non-null    float64\n",
      " 6   Freedom_to_make_life_choices  125 non-null    float64\n",
      " 7   Generosity                    125 non-null    float64\n",
      " 8   Perceptions_of_corruption     125 non-null    float64\n",
      "dtypes: float64(7), int64(1), object(1)\n",
      "memory usage: 9.8+ KB\n"
     ]
    }
   ],
   "source": [
    "df_cleaned17.info()"
   ]
  },
  {
   "cell_type": "code",
   "execution_count": 27,
   "metadata": {},
   "outputs": [
    {
     "name": "stdout",
     "output_type": "stream",
     "text": [
      "<class 'pandas.core.frame.DataFrame'>\n",
      "Index: 128 entries, 0 to 152\n",
      "Data columns (total 9 columns):\n",
      " #   Column                        Non-Null Count  Dtype  \n",
      "---  ------                        --------------  -----  \n",
      " 0   Country                       128 non-null    object \n",
      " 1   Rank                          128 non-null    int64  \n",
      " 2   Ladder_score                  128 non-null    float64\n",
      " 3   Logged_gdp_per_capita         128 non-null    float64\n",
      " 4   Social_support                128 non-null    float64\n",
      " 5   Healthy_life_expectancy       128 non-null    float64\n",
      " 6   Freedom_to_make_life_choices  128 non-null    float64\n",
      " 7   Generosity                    127 non-null    float64\n",
      " 8   Perceptions_of_corruption     128 non-null    float64\n",
      "dtypes: float64(7), int64(1), object(1)\n",
      "memory usage: 10.0+ KB\n"
     ]
    }
   ],
   "source": [
    "df_cleaned18.info()"
   ]
  },
  {
   "cell_type": "code",
   "execution_count": 28,
   "metadata": {},
   "outputs": [
    {
     "name": "stdout",
     "output_type": "stream",
     "text": [
      "<class 'pandas.core.frame.DataFrame'>\n",
      "Index: 131 entries, 0 to 153\n",
      "Data columns (total 9 columns):\n",
      " #   Column                        Non-Null Count  Dtype  \n",
      "---  ------                        --------------  -----  \n",
      " 0   Country                       131 non-null    object \n",
      " 1   Rank                          131 non-null    int64  \n",
      " 2   Ladder_score                  131 non-null    float64\n",
      " 3   Logged_gdp_per_capita         131 non-null    float64\n",
      " 4   Social_support                131 non-null    float64\n",
      " 5   Healthy_life_expectancy       131 non-null    float64\n",
      " 6   Freedom_to_make_life_choices  131 non-null    float64\n",
      " 7   Generosity                    131 non-null    float64\n",
      " 8   Perceptions_of_corruption     131 non-null    float64\n",
      "dtypes: float64(7), int64(1), object(1)\n",
      "memory usage: 10.2+ KB\n"
     ]
    }
   ],
   "source": [
    "df_cleaned19.info()"
   ]
  },
  {
   "cell_type": "code",
   "execution_count": 29,
   "metadata": {},
   "outputs": [
    {
     "name": "stdout",
     "output_type": "stream",
     "text": [
      "<class 'pandas.core.frame.DataFrame'>\n",
      "Index: 128 entries, 0 to 152\n",
      "Data columns (total 9 columns):\n",
      " #   Column                        Non-Null Count  Dtype  \n",
      "---  ------                        --------------  -----  \n",
      " 0   Country                       128 non-null    object \n",
      " 1   Rank                          128 non-null    int64  \n",
      " 2   Ladder_score                  128 non-null    float64\n",
      " 3   Logged_gdp_per_capita         128 non-null    float64\n",
      " 4   Social_support                128 non-null    float64\n",
      " 5   Healthy_life_expectancy       128 non-null    float64\n",
      " 6   Freedom_to_make_life_choices  128 non-null    float64\n",
      " 7   Generosity                    128 non-null    float64\n",
      " 8   Perceptions_of_corruption     128 non-null    float64\n",
      "dtypes: float64(7), int64(1), object(1)\n",
      "memory usage: 10.0+ KB\n"
     ]
    }
   ],
   "source": [
    "df_cleaned20.info()"
   ]
  },
  {
   "cell_type": "code",
   "execution_count": 30,
   "metadata": {},
   "outputs": [
    {
     "name": "stdout",
     "output_type": "stream",
     "text": [
      "<class 'pandas.core.frame.DataFrame'>\n",
      "Index: 129 entries, 0 to 148\n",
      "Data columns (total 9 columns):\n",
      " #   Column                        Non-Null Count  Dtype  \n",
      "---  ------                        --------------  -----  \n",
      " 0   Country                       129 non-null    object \n",
      " 1   Rank                          129 non-null    int64  \n",
      " 2   Ladder_score                  129 non-null    float64\n",
      " 3   Logged_gdp_per_capita         129 non-null    float64\n",
      " 4   Social_support                129 non-null    float64\n",
      " 5   Healthy_life_expectancy       129 non-null    float64\n",
      " 6   Freedom_to_make_life_choices  129 non-null    float64\n",
      " 7   Generosity                    129 non-null    float64\n",
      " 8   Perceptions_of_corruption     129 non-null    float64\n",
      "dtypes: float64(7), int64(1), object(1)\n",
      "memory usage: 10.1+ KB\n"
     ]
    }
   ],
   "source": [
    "df_cleaned21.info()"
   ]
  },
  {
   "cell_type": "code",
   "execution_count": 31,
   "metadata": {},
   "outputs": [
    {
     "name": "stdout",
     "output_type": "stream",
     "text": [
      "<class 'pandas.core.frame.DataFrame'>\n",
      "Index: 121 entries, 0 to 145\n",
      "Data columns (total 9 columns):\n",
      " #   Column                        Non-Null Count  Dtype  \n",
      "---  ------                        --------------  -----  \n",
      " 0   Country                       121 non-null    object \n",
      " 1   Rank                          121 non-null    int64  \n",
      " 2   Ladder_score                  121 non-null    float64\n",
      " 3   Logged_gdp_per_capita         121 non-null    float64\n",
      " 4   Social_support                121 non-null    float64\n",
      " 5   Healthy_life_expectancy       121 non-null    float64\n",
      " 6   Freedom_to_make_life_choices  121 non-null    float64\n",
      " 7   Generosity                    121 non-null    float64\n",
      " 8   Perceptions_of_corruption     121 non-null    float64\n",
      "dtypes: float64(7), int64(1), object(1)\n",
      "memory usage: 9.5+ KB\n"
     ]
    }
   ],
   "source": [
    "df_cleaned22.info()"
   ]
  },
  {
   "cell_type": "code",
   "execution_count": 32,
   "metadata": {},
   "outputs": [
    {
     "name": "stdout",
     "output_type": "stream",
     "text": [
      "<class 'pandas.core.frame.DataFrame'>\n",
      "RangeIndex: 137 entries, 0 to 136\n",
      "Data columns (total 10 columns):\n",
      " #   Column                        Non-Null Count  Dtype  \n",
      "---  ------                        --------------  -----  \n",
      " 0   Country                       137 non-null    object \n",
      " 1   Continent                     137 non-null    object \n",
      " 2   Rank                          137 non-null    int64  \n",
      " 3   Ladder_score                  137 non-null    float64\n",
      " 4   Logged_gdp_per_capita         137 non-null    float64\n",
      " 5   Social_support                137 non-null    float64\n",
      " 6   Healthy_life_expectancy       137 non-null    float64\n",
      " 7   Freedom_to_make_life_choices  137 non-null    float64\n",
      " 8   Generosity                    137 non-null    float64\n",
      " 9   Perceptions_of_corruption     137 non-null    float64\n",
      "dtypes: float64(7), int64(1), object(2)\n",
      "memory usage: 10.8+ KB\n"
     ]
    }
   ],
   "source": [
    "df_cleaned23.info()"
   ]
  },
  {
   "cell_type": "code",
   "execution_count": 33,
   "metadata": {},
   "outputs": [
    {
     "name": "stderr",
     "output_type": "stream",
     "text": [
      "/var/folders/75/q598wy0x5rq2j183ndtczjlm0000gn/T/ipykernel_95433/2365748614.py:11: SettingWithCopyWarning: \n",
      "A value is trying to be set on a copy of a slice from a DataFrame.\n",
      "Try using .loc[row_indexer,col_indexer] = value instead\n",
      "\n",
      "See the caveats in the documentation: https://pandas.pydata.org/pandas-docs/stable/user_guide/indexing.html#returning-a-view-versus-a-copy\n",
      "  df['Year'] = pd.Series([years[i]] * len(df))\n",
      "/var/folders/75/q598wy0x5rq2j183ndtczjlm0000gn/T/ipykernel_95433/2365748614.py:11: SettingWithCopyWarning: \n",
      "A value is trying to be set on a copy of a slice from a DataFrame.\n",
      "Try using .loc[row_indexer,col_indexer] = value instead\n",
      "\n",
      "See the caveats in the documentation: https://pandas.pydata.org/pandas-docs/stable/user_guide/indexing.html#returning-a-view-versus-a-copy\n",
      "  df['Year'] = pd.Series([years[i]] * len(df))\n",
      "/var/folders/75/q598wy0x5rq2j183ndtczjlm0000gn/T/ipykernel_95433/2365748614.py:11: SettingWithCopyWarning: \n",
      "A value is trying to be set on a copy of a slice from a DataFrame.\n",
      "Try using .loc[row_indexer,col_indexer] = value instead\n",
      "\n",
      "See the caveats in the documentation: https://pandas.pydata.org/pandas-docs/stable/user_guide/indexing.html#returning-a-view-versus-a-copy\n",
      "  df['Year'] = pd.Series([years[i]] * len(df))\n",
      "/var/folders/75/q598wy0x5rq2j183ndtczjlm0000gn/T/ipykernel_95433/2365748614.py:11: SettingWithCopyWarning: \n",
      "A value is trying to be set on a copy of a slice from a DataFrame.\n",
      "Try using .loc[row_indexer,col_indexer] = value instead\n",
      "\n",
      "See the caveats in the documentation: https://pandas.pydata.org/pandas-docs/stable/user_guide/indexing.html#returning-a-view-versus-a-copy\n",
      "  df['Year'] = pd.Series([years[i]] * len(df))\n",
      "/var/folders/75/q598wy0x5rq2j183ndtczjlm0000gn/T/ipykernel_95433/2365748614.py:11: SettingWithCopyWarning: \n",
      "A value is trying to be set on a copy of a slice from a DataFrame.\n",
      "Try using .loc[row_indexer,col_indexer] = value instead\n",
      "\n",
      "See the caveats in the documentation: https://pandas.pydata.org/pandas-docs/stable/user_guide/indexing.html#returning-a-view-versus-a-copy\n",
      "  df['Year'] = pd.Series([years[i]] * len(df))\n",
      "/var/folders/75/q598wy0x5rq2j183ndtczjlm0000gn/T/ipykernel_95433/2365748614.py:11: SettingWithCopyWarning: \n",
      "A value is trying to be set on a copy of a slice from a DataFrame.\n",
      "Try using .loc[row_indexer,col_indexer] = value instead\n",
      "\n",
      "See the caveats in the documentation: https://pandas.pydata.org/pandas-docs/stable/user_guide/indexing.html#returning-a-view-versus-a-copy\n",
      "  df['Year'] = pd.Series([years[i]] * len(df))\n",
      "/var/folders/75/q598wy0x5rq2j183ndtczjlm0000gn/T/ipykernel_95433/2365748614.py:11: SettingWithCopyWarning: \n",
      "A value is trying to be set on a copy of a slice from a DataFrame.\n",
      "Try using .loc[row_indexer,col_indexer] = value instead\n",
      "\n",
      "See the caveats in the documentation: https://pandas.pydata.org/pandas-docs/stable/user_guide/indexing.html#returning-a-view-versus-a-copy\n",
      "  df['Year'] = pd.Series([years[i]] * len(df))\n",
      "/var/folders/75/q598wy0x5rq2j183ndtczjlm0000gn/T/ipykernel_95433/2365748614.py:11: SettingWithCopyWarning: \n",
      "A value is trying to be set on a copy of a slice from a DataFrame.\n",
      "Try using .loc[row_indexer,col_indexer] = value instead\n",
      "\n",
      "See the caveats in the documentation: https://pandas.pydata.org/pandas-docs/stable/user_guide/indexing.html#returning-a-view-versus-a-copy\n",
      "  df['Year'] = pd.Series([years[i]] * len(df))\n"
     ]
    }
   ],
   "source": [
    "import pandas as pd\n",
    "\n",
    "# Asigna los años a una lista\n",
    "years = [2015, 2016, 2017, 2018, 2019, 2020, 2021, 2022, 2023]\n",
    "\n",
    "# Crea una lista con los DataFrames limpiados\n",
    "dfs = [df_cleaned15, df_cleaned16, df_cleaned17, df_cleaned18, df_cleaned19, df_cleaned20, df_cleaned21, df_cleaned22, df_cleaned23]\n",
    "\n",
    "# Agrega la columna \"Year\" a cada DataFrame\n",
    "for i, df in enumerate(dfs):\n",
    "    df['Year'] = pd.Series([years[i]] * len(df))\n",
    "\n",
    "# Concatena los DataFrames en uno solo\n",
    "concatenated_df = pd.concat(dfs)"
   ]
  },
  {
   "cell_type": "code",
   "execution_count": 34,
   "metadata": {},
   "outputs": [
    {
     "data": {
      "text/html": [
       "<div>\n",
       "<style scoped>\n",
       "    .dataframe tbody tr th:only-of-type {\n",
       "        vertical-align: middle;\n",
       "    }\n",
       "\n",
       "    .dataframe tbody tr th {\n",
       "        vertical-align: top;\n",
       "    }\n",
       "\n",
       "    .dataframe thead th {\n",
       "        text-align: right;\n",
       "    }\n",
       "</style>\n",
       "<table border=\"1\" class=\"dataframe\">\n",
       "  <thead>\n",
       "    <tr style=\"text-align: right;\">\n",
       "      <th></th>\n",
       "      <th>Country</th>\n",
       "      <th>Rank</th>\n",
       "      <th>Ladder_score</th>\n",
       "      <th>Logged_gdp_per_capita</th>\n",
       "      <th>Social_support</th>\n",
       "      <th>Healthy_life_expectancy</th>\n",
       "      <th>Freedom_to_make_life_choices</th>\n",
       "      <th>Generosity</th>\n",
       "      <th>Perceptions_of_corruption</th>\n",
       "      <th>Year</th>\n",
       "      <th>Continent</th>\n",
       "    </tr>\n",
       "  </thead>\n",
       "  <tbody>\n",
       "    <tr>\n",
       "      <th>0</th>\n",
       "      <td>Switzerland</td>\n",
       "      <td>1</td>\n",
       "      <td>7.587</td>\n",
       "      <td>1.39651</td>\n",
       "      <td>1.34951</td>\n",
       "      <td>0.94143</td>\n",
       "      <td>0.66557</td>\n",
       "      <td>0.41978</td>\n",
       "      <td>0.29678</td>\n",
       "      <td>2015.0</td>\n",
       "      <td>NaN</td>\n",
       "    </tr>\n",
       "    <tr>\n",
       "      <th>1</th>\n",
       "      <td>Iceland</td>\n",
       "      <td>2</td>\n",
       "      <td>7.561</td>\n",
       "      <td>1.30232</td>\n",
       "      <td>1.40223</td>\n",
       "      <td>0.94784</td>\n",
       "      <td>0.62877</td>\n",
       "      <td>0.14145</td>\n",
       "      <td>0.43630</td>\n",
       "      <td>2015.0</td>\n",
       "      <td>NaN</td>\n",
       "    </tr>\n",
       "    <tr>\n",
       "      <th>2</th>\n",
       "      <td>Denmark</td>\n",
       "      <td>3</td>\n",
       "      <td>7.527</td>\n",
       "      <td>1.32548</td>\n",
       "      <td>1.36058</td>\n",
       "      <td>0.87464</td>\n",
       "      <td>0.64938</td>\n",
       "      <td>0.48357</td>\n",
       "      <td>0.34139</td>\n",
       "      <td>2015.0</td>\n",
       "      <td>NaN</td>\n",
       "    </tr>\n",
       "    <tr>\n",
       "      <th>3</th>\n",
       "      <td>Norway</td>\n",
       "      <td>4</td>\n",
       "      <td>7.522</td>\n",
       "      <td>1.45900</td>\n",
       "      <td>1.33095</td>\n",
       "      <td>0.88521</td>\n",
       "      <td>0.66973</td>\n",
       "      <td>0.36503</td>\n",
       "      <td>0.34699</td>\n",
       "      <td>2015.0</td>\n",
       "      <td>NaN</td>\n",
       "    </tr>\n",
       "    <tr>\n",
       "      <th>4</th>\n",
       "      <td>Canada</td>\n",
       "      <td>5</td>\n",
       "      <td>7.427</td>\n",
       "      <td>1.32629</td>\n",
       "      <td>1.32261</td>\n",
       "      <td>0.90563</td>\n",
       "      <td>0.63297</td>\n",
       "      <td>0.32957</td>\n",
       "      <td>0.45811</td>\n",
       "      <td>2015.0</td>\n",
       "      <td>NaN</td>\n",
       "    </tr>\n",
       "    <tr>\n",
       "      <th>...</th>\n",
       "      <td>...</td>\n",
       "      <td>...</td>\n",
       "      <td>...</td>\n",
       "      <td>...</td>\n",
       "      <td>...</td>\n",
       "      <td>...</td>\n",
       "      <td>...</td>\n",
       "      <td>...</td>\n",
       "      <td>...</td>\n",
       "      <td>...</td>\n",
       "      <td>...</td>\n",
       "    </tr>\n",
       "    <tr>\n",
       "      <th>132</th>\n",
       "      <td>Congo</td>\n",
       "      <td>133</td>\n",
       "      <td>3.207</td>\n",
       "      <td>7.00700</td>\n",
       "      <td>0.65200</td>\n",
       "      <td>55.37500</td>\n",
       "      <td>0.66400</td>\n",
       "      <td>0.08600</td>\n",
       "      <td>0.83400</td>\n",
       "      <td>2023.0</td>\n",
       "      <td>Africa</td>\n",
       "    </tr>\n",
       "    <tr>\n",
       "      <th>133</th>\n",
       "      <td>Zimbabwe</td>\n",
       "      <td>134</td>\n",
       "      <td>3.204</td>\n",
       "      <td>7.64100</td>\n",
       "      <td>0.69000</td>\n",
       "      <td>54.05000</td>\n",
       "      <td>0.65400</td>\n",
       "      <td>-0.04600</td>\n",
       "      <td>0.76600</td>\n",
       "      <td>2023.0</td>\n",
       "      <td>Africa</td>\n",
       "    </tr>\n",
       "    <tr>\n",
       "      <th>134</th>\n",
       "      <td>Sierra Leone</td>\n",
       "      <td>135</td>\n",
       "      <td>3.138</td>\n",
       "      <td>7.39400</td>\n",
       "      <td>0.55500</td>\n",
       "      <td>54.90000</td>\n",
       "      <td>0.66000</td>\n",
       "      <td>0.10500</td>\n",
       "      <td>0.85800</td>\n",
       "      <td>2023.0</td>\n",
       "      <td>Africa</td>\n",
       "    </tr>\n",
       "    <tr>\n",
       "      <th>135</th>\n",
       "      <td>Lebanon</td>\n",
       "      <td>136</td>\n",
       "      <td>2.392</td>\n",
       "      <td>9.47800</td>\n",
       "      <td>0.53000</td>\n",
       "      <td>66.14900</td>\n",
       "      <td>0.47400</td>\n",
       "      <td>-0.14100</td>\n",
       "      <td>0.89100</td>\n",
       "      <td>2023.0</td>\n",
       "      <td>Asia</td>\n",
       "    </tr>\n",
       "    <tr>\n",
       "      <th>136</th>\n",
       "      <td>Afghanistan</td>\n",
       "      <td>137</td>\n",
       "      <td>1.859</td>\n",
       "      <td>7.32400</td>\n",
       "      <td>0.34100</td>\n",
       "      <td>54.71200</td>\n",
       "      <td>0.38200</td>\n",
       "      <td>-0.08100</td>\n",
       "      <td>0.84700</td>\n",
       "      <td>2023.0</td>\n",
       "      <td>Asia</td>\n",
       "    </tr>\n",
       "  </tbody>\n",
       "</table>\n",
       "<p>1155 rows × 11 columns</p>\n",
       "</div>"
      ],
      "text/plain": [
       "          Country  Rank  Ladder_score  Logged_gdp_per_capita  Social_support   \n",
       "0     Switzerland     1         7.587                1.39651         1.34951  \\\n",
       "1         Iceland     2         7.561                1.30232         1.40223   \n",
       "2         Denmark     3         7.527                1.32548         1.36058   \n",
       "3          Norway     4         7.522                1.45900         1.33095   \n",
       "4          Canada     5         7.427                1.32629         1.32261   \n",
       "..            ...   ...           ...                    ...             ...   \n",
       "132         Congo   133         3.207                7.00700         0.65200   \n",
       "133      Zimbabwe   134         3.204                7.64100         0.69000   \n",
       "134  Sierra Leone   135         3.138                7.39400         0.55500   \n",
       "135       Lebanon   136         2.392                9.47800         0.53000   \n",
       "136   Afghanistan   137         1.859                7.32400         0.34100   \n",
       "\n",
       "     Healthy_life_expectancy  Freedom_to_make_life_choices  Generosity   \n",
       "0                    0.94143                       0.66557     0.41978  \\\n",
       "1                    0.94784                       0.62877     0.14145   \n",
       "2                    0.87464                       0.64938     0.48357   \n",
       "3                    0.88521                       0.66973     0.36503   \n",
       "4                    0.90563                       0.63297     0.32957   \n",
       "..                       ...                           ...         ...   \n",
       "132                 55.37500                       0.66400     0.08600   \n",
       "133                 54.05000                       0.65400    -0.04600   \n",
       "134                 54.90000                       0.66000     0.10500   \n",
       "135                 66.14900                       0.47400    -0.14100   \n",
       "136                 54.71200                       0.38200    -0.08100   \n",
       "\n",
       "     Perceptions_of_corruption    Year Continent  \n",
       "0                      0.29678  2015.0       NaN  \n",
       "1                      0.43630  2015.0       NaN  \n",
       "2                      0.34139  2015.0       NaN  \n",
       "3                      0.34699  2015.0       NaN  \n",
       "4                      0.45811  2015.0       NaN  \n",
       "..                         ...     ...       ...  \n",
       "132                    0.83400  2023.0    Africa  \n",
       "133                    0.76600  2023.0    Africa  \n",
       "134                    0.85800  2023.0    Africa  \n",
       "135                    0.89100  2023.0      Asia  \n",
       "136                    0.84700  2023.0      Asia  \n",
       "\n",
       "[1155 rows x 11 columns]"
      ]
     },
     "execution_count": 34,
     "metadata": {},
     "output_type": "execute_result"
    }
   ],
   "source": [
    "concatenated_df"
   ]
  },
  {
   "cell_type": "code",
   "execution_count": 35,
   "metadata": {},
   "outputs": [
    {
     "name": "stdout",
     "output_type": "stream",
     "text": [
      "Hay valores nulos en el DataFrame:\n",
      "Country                            0\n",
      "Rank                               0\n",
      "Ladder_score                       0\n",
      "Logged_gdp_per_capita              0\n",
      "Social_support                     0\n",
      "Healthy_life_expectancy            0\n",
      "Freedom_to_make_life_choices       0\n",
      "Generosity                         1\n",
      "Perceptions_of_corruption          0\n",
      "Year                             142\n",
      "Continent                       1018\n",
      "dtype: int64\n"
     ]
    }
   ],
   "source": [
    "# Verificar si hay valores nulos\n",
    "nulos_por_columna = concatenated_df.isnull().sum()\n",
    "\n",
    "# Comprobar si hay columnas con valores nulos\n",
    "if nulos_por_columna.sum() > 0:\n",
    "    print(\"Hay valores nulos en el DataFrame:\")\n",
    "    print(nulos_por_columna)\n",
    "else:\n",
    "    print(\"No hay valores nulos en el DataFrame.\")\n"
   ]
  },
  {
   "cell_type": "code",
   "execution_count": 37,
   "metadata": {},
   "outputs": [],
   "source": [
    "concatenated_df = concatenated_df.drop(\"Continent\", axis=1)"
   ]
  },
  {
   "cell_type": "code",
   "execution_count": 39,
   "metadata": {},
   "outputs": [
    {
     "data": {
      "text/plain": [
       "array([ 105,  106,  107,  108,  109,  110,  111,  112,  113,  114,  115,\n",
       "        116,  117,  118,  119,  120,  121,  122,  123,  124,  125,  126,\n",
       "        127,  235,  236,  237,  238,  239,  240,  241,  242,  243,  244,\n",
       "        245,  246,  247,  248,  249,  250,  251,  252,  253,  254,  255,\n",
       "        362,  363,  364,  365,  366,  367,  368,  369,  370,  371,  372,\n",
       "        373,  374,  375,  376,  377,  378,  379,  380,  492,  493,  494,\n",
       "        495,  496,  497,  498,  499,  500,  501,  502,  503,  504,  505,\n",
       "        506,  507,  508,  624,  625,  626,  627,  628,  629,  630,  631,\n",
       "        632,  633,  634,  635,  636,  637,  638,  639,  752,  753,  754,\n",
       "        755,  756,  757,  758,  759,  760,  761,  762,  763,  764,  765,\n",
       "        766,  767,  883,  884,  885,  886,  887,  888,  889,  890,  891,\n",
       "        892,  893,  894,  895,  896, 1002, 1003, 1004, 1005, 1006, 1007,\n",
       "       1008, 1009, 1010, 1011, 1012, 1013, 1014, 1015, 1016, 1017])"
      ]
     },
     "execution_count": 39,
     "metadata": {},
     "output_type": "execute_result"
    }
   ],
   "source": [
    "import numpy as np\n",
    "\n",
    "# Obtener una matriz booleana indicando los valores nulos en la columna \"Year\"\n",
    "null_values = concatenated_df[\"Year\"].isnull()\n",
    "\n",
    "# Obtener los índices donde se encuentran los valores nulos\n",
    "indices_null = np.where(null_values)[0]\n",
    "indices_null\n"
   ]
  },
  {
   "cell_type": "code",
   "execution_count": 40,
   "metadata": {},
   "outputs": [
    {
     "ename": "KeyError",
     "evalue": "'[235, 236, 237, 238, 239, 240, 241, 242, 243, 244, 245, 246, 247, 248, 249, 250, 251, 252, 253, 254, 255] not in index'",
     "output_type": "error",
     "traceback": [
      "\u001b[0;31m---------------------------------------------------------------------------\u001b[0m",
      "\u001b[0;31mKeyError\u001b[0m                                  Traceback (most recent call last)",
      "Cell \u001b[0;32mIn[40], line 3\u001b[0m\n\u001b[1;32m      1\u001b[0m \u001b[39m# Sustituir los valores nulos en las filas indicadas por el número correspondiente\u001b[39;00m\n\u001b[1;32m      2\u001b[0m concatenated_df\u001b[39m.\u001b[39mloc[[\u001b[39m105\u001b[39m, \u001b[39m106\u001b[39m, \u001b[39m107\u001b[39m, \u001b[39m108\u001b[39m, \u001b[39m109\u001b[39m, \u001b[39m110\u001b[39m, \u001b[39m111\u001b[39m, \u001b[39m112\u001b[39m, \u001b[39m113\u001b[39m, \u001b[39m114\u001b[39m, \u001b[39m115\u001b[39m, \u001b[39m116\u001b[39m, \u001b[39m117\u001b[39m, \u001b[39m118\u001b[39m, \u001b[39m119\u001b[39m, \u001b[39m120\u001b[39m, \u001b[39m121\u001b[39m, \u001b[39m122\u001b[39m, \u001b[39m123\u001b[39m, \u001b[39m124\u001b[39m, \u001b[39m125\u001b[39m, \u001b[39m126\u001b[39m], \u001b[39m\"\u001b[39m\u001b[39mYear\u001b[39m\u001b[39m\"\u001b[39m] \u001b[39m=\u001b[39m \u001b[39m2015\u001b[39m\n\u001b[0;32m----> 3\u001b[0m concatenated_df\u001b[39m.\u001b[39mloc[[\u001b[39m127\u001b[39m, \u001b[39m235\u001b[39m, \u001b[39m236\u001b[39m, \u001b[39m237\u001b[39m, \u001b[39m238\u001b[39m, \u001b[39m239\u001b[39m, \u001b[39m240\u001b[39m, \u001b[39m241\u001b[39m, \u001b[39m242\u001b[39m, \u001b[39m243\u001b[39m, \u001b[39m244\u001b[39m, \u001b[39m245\u001b[39m, \u001b[39m246\u001b[39m, \u001b[39m247\u001b[39m, \u001b[39m248\u001b[39m, \u001b[39m249\u001b[39m, \u001b[39m250\u001b[39m, \u001b[39m251\u001b[39m, \u001b[39m252\u001b[39m, \u001b[39m253\u001b[39m, \u001b[39m254\u001b[39m, \u001b[39m255\u001b[39m], \u001b[39m\"\u001b[39m\u001b[39mYear\u001b[39m\u001b[39m\"\u001b[39m] \u001b[39m=\u001b[39m \u001b[39m2016\u001b[39m\n\u001b[1;32m      4\u001b[0m concatenated_df\u001b[39m.\u001b[39mloc[[\u001b[39m362\u001b[39m, \u001b[39m363\u001b[39m, \u001b[39m364\u001b[39m, \u001b[39m365\u001b[39m, \u001b[39m366\u001b[39m, \u001b[39m367\u001b[39m, \u001b[39m368\u001b[39m, \u001b[39m369\u001b[39m, \u001b[39m370\u001b[39m, \u001b[39m371\u001b[39m, \u001b[39m372\u001b[39m, \u001b[39m373\u001b[39m, \u001b[39m374\u001b[39m, \u001b[39m375\u001b[39m, \u001b[39m376\u001b[39m, \u001b[39m377\u001b[39m, \u001b[39m378\u001b[39m, \u001b[39m379\u001b[39m, \u001b[39m380\u001b[39m, \u001b[39m492\u001b[39m, \u001b[39m493\u001b[39m, \u001b[39m494\u001b[39m, \u001b[39m495\u001b[39m, \u001b[39m496\u001b[39m, \u001b[39m497\u001b[39m, \u001b[39m498\u001b[39m, \u001b[39m499\u001b[39m], \u001b[39m\"\u001b[39m\u001b[39mYear\u001b[39m\u001b[39m\"\u001b[39m] \u001b[39m=\u001b[39m \u001b[39m2017\u001b[39m\n\u001b[1;32m      5\u001b[0m concatenated_df\u001b[39m.\u001b[39mloc[[\u001b[39m500\u001b[39m, \u001b[39m501\u001b[39m, \u001b[39m502\u001b[39m, \u001b[39m503\u001b[39m, \u001b[39m504\u001b[39m, \u001b[39m505\u001b[39m, \u001b[39m506\u001b[39m, \u001b[39m507\u001b[39m, \u001b[39m508\u001b[39m, \u001b[39m624\u001b[39m, \u001b[39m625\u001b[39m, \u001b[39m626\u001b[39m, \u001b[39m627\u001b[39m, \u001b[39m628\u001b[39m, \u001b[39m629\u001b[39m, \u001b[39m630\u001b[39m], \u001b[39m\"\u001b[39m\u001b[39mYear\u001b[39m\u001b[39m\"\u001b[39m] \u001b[39m=\u001b[39m \u001b[39m2018\u001b[39m\n",
      "File \u001b[0;32m~/opt/anaconda3/envs/ironhack/lib/python3.9/site-packages/pandas/core/indexing.py:845\u001b[0m, in \u001b[0;36m_LocationIndexer.__setitem__\u001b[0;34m(self, key, value)\u001b[0m\n\u001b[1;32m    843\u001b[0m \u001b[39melse\u001b[39;00m:\n\u001b[1;32m    844\u001b[0m     key \u001b[39m=\u001b[39m com\u001b[39m.\u001b[39mapply_if_callable(key, \u001b[39mself\u001b[39m\u001b[39m.\u001b[39mobj)\n\u001b[0;32m--> 845\u001b[0m indexer \u001b[39m=\u001b[39m \u001b[39mself\u001b[39;49m\u001b[39m.\u001b[39;49m_get_setitem_indexer(key)\n\u001b[1;32m    846\u001b[0m \u001b[39mself\u001b[39m\u001b[39m.\u001b[39m_has_valid_setitem_indexer(key)\n\u001b[1;32m    848\u001b[0m iloc \u001b[39m=\u001b[39m \u001b[39mself\u001b[39m \u001b[39mif\u001b[39;00m \u001b[39mself\u001b[39m\u001b[39m.\u001b[39mname \u001b[39m==\u001b[39m \u001b[39m\"\u001b[39m\u001b[39miloc\u001b[39m\u001b[39m\"\u001b[39m \u001b[39melse\u001b[39;00m \u001b[39mself\u001b[39m\u001b[39m.\u001b[39mobj\u001b[39m.\u001b[39miloc\n",
      "File \u001b[0;32m~/opt/anaconda3/envs/ironhack/lib/python3.9/site-packages/pandas/core/indexing.py:710\u001b[0m, in \u001b[0;36m_LocationIndexer._get_setitem_indexer\u001b[0;34m(self, key)\u001b[0m\n\u001b[1;32m    707\u001b[0m \u001b[39mif\u001b[39;00m \u001b[39misinstance\u001b[39m(key, \u001b[39mtuple\u001b[39m):\n\u001b[1;32m    708\u001b[0m     \u001b[39mwith\u001b[39;00m suppress(IndexingError):\n\u001b[1;32m    709\u001b[0m         \u001b[39m# suppress \"Too many indexers\"\u001b[39;00m\n\u001b[0;32m--> 710\u001b[0m         \u001b[39mreturn\u001b[39;00m \u001b[39mself\u001b[39;49m\u001b[39m.\u001b[39;49m_convert_tuple(key)\n\u001b[1;32m    712\u001b[0m \u001b[39mif\u001b[39;00m \u001b[39misinstance\u001b[39m(key, \u001b[39mrange\u001b[39m):\n\u001b[1;32m    713\u001b[0m     \u001b[39m# GH#45479 test_loc_setitem_range_key\u001b[39;00m\n\u001b[1;32m    714\u001b[0m     key \u001b[39m=\u001b[39m \u001b[39mlist\u001b[39m(key)\n",
      "File \u001b[0;32m~/opt/anaconda3/envs/ironhack/lib/python3.9/site-packages/pandas/core/indexing.py:927\u001b[0m, in \u001b[0;36m_LocationIndexer._convert_tuple\u001b[0;34m(self, key)\u001b[0m\n\u001b[1;32m    923\u001b[0m \u001b[39m@final\u001b[39m\n\u001b[1;32m    924\u001b[0m \u001b[39mdef\u001b[39;00m \u001b[39m_convert_tuple\u001b[39m(\u001b[39mself\u001b[39m, key: \u001b[39mtuple\u001b[39m) \u001b[39m-\u001b[39m\u001b[39m>\u001b[39m \u001b[39mtuple\u001b[39m:\n\u001b[1;32m    925\u001b[0m     \u001b[39m# Note: we assume _tupleize_axis_indexer has been called, if necessary.\u001b[39;00m\n\u001b[1;32m    926\u001b[0m     \u001b[39mself\u001b[39m\u001b[39m.\u001b[39m_validate_key_length(key)\n\u001b[0;32m--> 927\u001b[0m     keyidx \u001b[39m=\u001b[39m [\u001b[39mself\u001b[39m\u001b[39m.\u001b[39m_convert_to_indexer(k, axis\u001b[39m=\u001b[39mi) \u001b[39mfor\u001b[39;00m i, k \u001b[39min\u001b[39;00m \u001b[39menumerate\u001b[39m(key)]\n\u001b[1;32m    928\u001b[0m     \u001b[39mreturn\u001b[39;00m \u001b[39mtuple\u001b[39m(keyidx)\n",
      "File \u001b[0;32m~/opt/anaconda3/envs/ironhack/lib/python3.9/site-packages/pandas/core/indexing.py:927\u001b[0m, in \u001b[0;36m<listcomp>\u001b[0;34m(.0)\u001b[0m\n\u001b[1;32m    923\u001b[0m \u001b[39m@final\u001b[39m\n\u001b[1;32m    924\u001b[0m \u001b[39mdef\u001b[39;00m \u001b[39m_convert_tuple\u001b[39m(\u001b[39mself\u001b[39m, key: \u001b[39mtuple\u001b[39m) \u001b[39m-\u001b[39m\u001b[39m>\u001b[39m \u001b[39mtuple\u001b[39m:\n\u001b[1;32m    925\u001b[0m     \u001b[39m# Note: we assume _tupleize_axis_indexer has been called, if necessary.\u001b[39;00m\n\u001b[1;32m    926\u001b[0m     \u001b[39mself\u001b[39m\u001b[39m.\u001b[39m_validate_key_length(key)\n\u001b[0;32m--> 927\u001b[0m     keyidx \u001b[39m=\u001b[39m [\u001b[39mself\u001b[39;49m\u001b[39m.\u001b[39;49m_convert_to_indexer(k, axis\u001b[39m=\u001b[39;49mi) \u001b[39mfor\u001b[39;00m i, k \u001b[39min\u001b[39;00m \u001b[39menumerate\u001b[39m(key)]\n\u001b[1;32m    928\u001b[0m     \u001b[39mreturn\u001b[39;00m \u001b[39mtuple\u001b[39m(keyidx)\n",
      "File \u001b[0;32m~/opt/anaconda3/envs/ironhack/lib/python3.9/site-packages/pandas/core/indexing.py:1426\u001b[0m, in \u001b[0;36m_LocIndexer._convert_to_indexer\u001b[0;34m(self, key, axis)\u001b[0m\n\u001b[1;32m   1424\u001b[0m         \u001b[39mreturn\u001b[39;00m key\n\u001b[1;32m   1425\u001b[0m     \u001b[39melse\u001b[39;00m:\n\u001b[0;32m-> 1426\u001b[0m         \u001b[39mreturn\u001b[39;00m \u001b[39mself\u001b[39;49m\u001b[39m.\u001b[39;49m_get_listlike_indexer(key, axis)[\u001b[39m1\u001b[39m]\n\u001b[1;32m   1427\u001b[0m \u001b[39melse\u001b[39;00m:\n\u001b[1;32m   1428\u001b[0m     \u001b[39mtry\u001b[39;00m:\n",
      "File \u001b[0;32m~/opt/anaconda3/envs/ironhack/lib/python3.9/site-packages/pandas/core/indexing.py:1462\u001b[0m, in \u001b[0;36m_LocIndexer._get_listlike_indexer\u001b[0;34m(self, key, axis)\u001b[0m\n\u001b[1;32m   1459\u001b[0m ax \u001b[39m=\u001b[39m \u001b[39mself\u001b[39m\u001b[39m.\u001b[39mobj\u001b[39m.\u001b[39m_get_axis(axis)\n\u001b[1;32m   1460\u001b[0m axis_name \u001b[39m=\u001b[39m \u001b[39mself\u001b[39m\u001b[39m.\u001b[39mobj\u001b[39m.\u001b[39m_get_axis_name(axis)\n\u001b[0;32m-> 1462\u001b[0m keyarr, indexer \u001b[39m=\u001b[39m ax\u001b[39m.\u001b[39;49m_get_indexer_strict(key, axis_name)\n\u001b[1;32m   1464\u001b[0m \u001b[39mreturn\u001b[39;00m keyarr, indexer\n",
      "File \u001b[0;32m~/opt/anaconda3/envs/ironhack/lib/python3.9/site-packages/pandas/core/indexes/base.py:5876\u001b[0m, in \u001b[0;36mIndex._get_indexer_strict\u001b[0;34m(self, key, axis_name)\u001b[0m\n\u001b[1;32m   5873\u001b[0m \u001b[39melse\u001b[39;00m:\n\u001b[1;32m   5874\u001b[0m     keyarr, indexer, new_indexer \u001b[39m=\u001b[39m \u001b[39mself\u001b[39m\u001b[39m.\u001b[39m_reindex_non_unique(keyarr)\n\u001b[0;32m-> 5876\u001b[0m \u001b[39mself\u001b[39;49m\u001b[39m.\u001b[39;49m_raise_if_missing(keyarr, indexer, axis_name)\n\u001b[1;32m   5878\u001b[0m keyarr \u001b[39m=\u001b[39m \u001b[39mself\u001b[39m\u001b[39m.\u001b[39mtake(indexer)\n\u001b[1;32m   5879\u001b[0m \u001b[39mif\u001b[39;00m \u001b[39misinstance\u001b[39m(key, Index):\n\u001b[1;32m   5880\u001b[0m     \u001b[39m# GH 42790 - Preserve name from an Index\u001b[39;00m\n",
      "File \u001b[0;32m~/opt/anaconda3/envs/ironhack/lib/python3.9/site-packages/pandas/core/indexes/base.py:5938\u001b[0m, in \u001b[0;36mIndex._raise_if_missing\u001b[0;34m(self, key, indexer, axis_name)\u001b[0m\n\u001b[1;32m   5935\u001b[0m     \u001b[39mraise\u001b[39;00m \u001b[39mKeyError\u001b[39;00m(\u001b[39mf\u001b[39m\u001b[39m\"\u001b[39m\u001b[39mNone of [\u001b[39m\u001b[39m{\u001b[39;00mkey\u001b[39m}\u001b[39;00m\u001b[39m] are in the [\u001b[39m\u001b[39m{\u001b[39;00maxis_name\u001b[39m}\u001b[39;00m\u001b[39m]\u001b[39m\u001b[39m\"\u001b[39m)\n\u001b[1;32m   5937\u001b[0m not_found \u001b[39m=\u001b[39m \u001b[39mlist\u001b[39m(ensure_index(key)[missing_mask\u001b[39m.\u001b[39mnonzero()[\u001b[39m0\u001b[39m]]\u001b[39m.\u001b[39munique())\n\u001b[0;32m-> 5938\u001b[0m \u001b[39mraise\u001b[39;00m \u001b[39mKeyError\u001b[39;00m(\u001b[39mf\u001b[39m\u001b[39m\"\u001b[39m\u001b[39m{\u001b[39;00mnot_found\u001b[39m}\u001b[39;00m\u001b[39m not in index\u001b[39m\u001b[39m\"\u001b[39m)\n",
      "\u001b[0;31mKeyError\u001b[0m: '[235, 236, 237, 238, 239, 240, 241, 242, 243, 244, 245, 246, 247, 248, 249, 250, 251, 252, 253, 254, 255] not in index'"
     ]
    }
   ],
   "source": [
    "# Sustituir los valores nulos en las filas indicadas por el número correspondiente\n",
    "concatenated_df.loc[[105, 106, 107, 108, 109, 110, 111, 112, 113, 114, 115, 116, 117, 118, 119, 120, 121, 122, 123, 124, 125, 126], \"Year\"] = 2015\n",
    "concatenated_df.loc[[127, 235, 236, 237, 238, 239, 240, 241, 242, 243, 244, 245, 246, 247, 248, 249, 250, 251, 252, 253, 254, 255], \"Year\"] = 2016\n",
    "concatenated_df.loc[[362, 363, 364, 365, 366, 367, 368, 369, 370, 371, 372, 373, 374, 375, 376, 377, 378, 379, 380, 492, 493, 494, 495, 496, 497, 498, 499], \"Year\"] = 2017\n",
    "concatenated_df.loc[[500, 501, 502, 503, 504, 505, 506, 507, 508, 624, 625, 626, 627, 628, 629, 630], \"Year\"] = 2018\n",
    "concatenated_df.loc[[631, 632, 633, 634, 635, 636, 637, 638, 639, 752, 753, 754, 755, 756, 757, 758, 759, 760], \"Year\"] = 2019\n",
    "concatenated_df.loc[[761, 762, 763, 764, 765, 766, 767, 883, 884, 885, 886, 887, 888, 889, 890], \"Year\"] = 2020\n",
    "concatenated_df.loc[[891, 892, 893, 894, 895, 896, 1002, 1003, 1004, 1005, 1006, 1007, 1008, 1009, 1010, 1011, 1012, 1013, 1014, 1015, 1016, 1017], \"Year\"] = 2021"
   ]
  },
  {
   "cell_type": "code",
   "execution_count": 41,
   "metadata": {},
   "outputs": [],
   "source": [
    "concatenated_df.to_csv('concatenated_data.csv', index=False)"
   ]
  },
  {
   "cell_type": "code",
   "execution_count": null,
   "metadata": {},
   "outputs": [],
   "source": []
  }
 ],
 "metadata": {
  "kernelspec": {
   "display_name": "ironhack",
   "language": "python",
   "name": "python3"
  },
  "language_info": {
   "codemirror_mode": {
    "name": "ipython",
    "version": 3
   },
   "file_extension": ".py",
   "mimetype": "text/x-python",
   "name": "python",
   "nbconvert_exporter": "python",
   "pygments_lexer": "ipython3",
   "version": "3.9.16"
  },
  "orig_nbformat": 4
 },
 "nbformat": 4,
 "nbformat_minor": 2
}
